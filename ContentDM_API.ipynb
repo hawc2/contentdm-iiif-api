{
  "nbformat": 4,
  "nbformat_minor": 0,
  "metadata": {
    "colab": {
      "name": "ContentDM API.ipynb",
      "provenance": [],
      "collapsed_sections": [],
      "include_colab_link": true
    },
    "kernelspec": {
      "name": "python3",
      "display_name": "Python 3"
    },
    "accelerator": "TPU"
  },
  "cells": [
    {
      "cell_type": "markdown",
      "metadata": {
        "id": "view-in-github",
        "colab_type": "text"
      },
      "source": [
        "<a href=\"https://colab.research.google.com/github/hawc2/contentdm-iiif-api/blob/main/ContentDM_API.ipynb\" target=\"_parent\"><img src=\"https://colab.research.google.com/assets/colab-badge.svg\" alt=\"Open In Colab\"/></a>"
      ]
    },
    {
      "cell_type": "markdown",
      "metadata": {
        "id": "72HCVOsd19cO"
      },
      "source": [
        "# Overview\n",
        "\n",
        "This Python script queries the ContentDM API and downloads metadata Temple University Libraries' Digital Collections. "
      ]
    },
    {
      "cell_type": "markdown",
      "metadata": {
        "id": "l9YxYHRgDF4Y"
      },
      "source": [
        "# Install Packages\n"
      ]
    },
    {
      "cell_type": "code",
      "metadata": {
        "id": "uqLxDOQddzT4",
        "colab": {
          "base_uri": "https://localhost:8080/"
        },
        "outputId": "423c8294-2e13-4a82-9c97-56b97ea40e1e"
      },
      "source": [
        "from google.colab import files\n",
        "%load_ext google.colab.data_table\n",
        "import requests, csv\n",
        "import json\n",
        "import pandas as pd\n",
        "from pandas.io.json import json_normalize\n",
        "import cv2\n",
        "import os\n",
        "import urllib.request\n",
        "import urllib3\n",
        "from urllib3 import request"
      ],
      "execution_count": 24,
      "outputs": [
        {
          "output_type": "stream",
          "name": "stdout",
          "text": [
            "The google.colab.data_table extension is already loaded. To reload it, use:\n",
            "  %reload_ext google.colab.data_table\n"
          ]
        }
      ]
    },
    {
      "cell_type": "markdown",
      "metadata": {
        "id": "YsmBXprSx62z"
      },
      "source": [
        "# Query ContentDM"
      ]
    },
    {
      "cell_type": "markdown",
      "metadata": {
        "id": "LqZI-5BTNodS"
      },
      "source": [
        "## Download Temple Metadata for Digital collections"
      ]
    },
    {
      "cell_type": "code",
      "metadata": {
        "scrolled": true,
        "id": "nWwG3a1zA3D5"
      },
      "source": [
        "manifestUrl = 'https://cdm16002.contentdm.oclc.org/iiif/info/manifest.json'"
      ],
      "execution_count": 25,
      "outputs": []
    },
    {
      "cell_type": "code",
      "metadata": {
        "id": "MwagkZsNTDsU"
      },
      "source": [
        "resp = urllib.request.urlopen(manifestUrl)\n",
        "data = resp.read().decode(\"utf-8\")\n",
        "data = json.loads(data)"
      ],
      "execution_count": 26,
      "outputs": []
    },
    {
      "cell_type": "code",
      "metadata": {
        "colab": {
          "base_uri": "https://localhost:8080/",
          "height": 201
        },
        "id": "S-G5BrgCyM_k",
        "outputId": "55eb7f61-717c-4c8b-9db4-43da2392e727"
      },
      "source": [
        "df = pd.json_normalize(data['collections'])\n",
        "del df['@type']\n",
        "df.rename(columns = {'@id':'ID', 'label':'Label'}, inplace = True)\n",
        "df.head()"
      ],
      "execution_count": 27,
      "outputs": [
        {
          "output_type": "execute_result",
          "data": {
            "application/vnd.google.colaboratory.module+javascript": "\n      import \"https://ssl.gstatic.com/colaboratory/data_table/a6224c040fa35dcf/data_table.js\";\n\n      window.createDataTable({\n        data: [[{\n            'v': 0,\n            'f': \"0\",\n        },\n\"https://cdm16002.contentdm.oclc.org/iiif/info/p16002coll9/manifest.json\",\n\"Allied Posters of World War I\"],\n [{\n            'v': 1,\n            'f': \"1\",\n        },\n\"https://cdm16002.contentdm.oclc.org/iiif/info/p16002coll19/manifest.json\",\n\"Ambler Campus History in Photographs\"],\n [{\n            'v': 2,\n            'f': \"2\",\n        },\n\"https://cdm16002.contentdm.oclc.org/iiif/info/p15037coll5/manifest.json\",\n\"City Parks Association Photographs\"],\n [{\n            'v': 3,\n            'f': \"3\",\n        },\n\"https://cdm16002.contentdm.oclc.org/iiif/info/p16002coll26/manifest.json\",\n\"Frank G. Zahn Railroad Photograph Collection\"],\n [{\n            'v': 4,\n            'f': \"4\",\n        },\n\"https://cdm16002.contentdm.oclc.org/iiif/info/p16002coll14/manifest.json\",\n\"Franklin H. Littell Papers\"]],\n        columns: [[\"number\", \"index\"], [\"string\", \"ID\"], [\"string\", \"Label\"]],\n        columnOptions: [{\"width\": \"1px\", \"className\": \"index_column\"}],\n        rowsPerPage: 25,\n        helpUrl: \"https://colab.research.google.com/notebooks/data_table.ipynb\",\n        suppressOutputScrolling: true,\n        minimumWidth: undefined,\n      });\n    ",
            "text/html": [
              "<div>\n",
              "<style scoped>\n",
              "    .dataframe tbody tr th:only-of-type {\n",
              "        vertical-align: middle;\n",
              "    }\n",
              "\n",
              "    .dataframe tbody tr th {\n",
              "        vertical-align: top;\n",
              "    }\n",
              "\n",
              "    .dataframe thead th {\n",
              "        text-align: right;\n",
              "    }\n",
              "</style>\n",
              "<table border=\"1\" class=\"dataframe\">\n",
              "  <thead>\n",
              "    <tr style=\"text-align: right;\">\n",
              "      <th></th>\n",
              "      <th>ID</th>\n",
              "      <th>Label</th>\n",
              "    </tr>\n",
              "  </thead>\n",
              "  <tbody>\n",
              "    <tr>\n",
              "      <th>0</th>\n",
              "      <td>https://cdm16002.contentdm.oclc.org/iiif/info/...</td>\n",
              "      <td>Allied Posters of World War I</td>\n",
              "    </tr>\n",
              "    <tr>\n",
              "      <th>1</th>\n",
              "      <td>https://cdm16002.contentdm.oclc.org/iiif/info/...</td>\n",
              "      <td>Ambler Campus History in Photographs</td>\n",
              "    </tr>\n",
              "    <tr>\n",
              "      <th>2</th>\n",
              "      <td>https://cdm16002.contentdm.oclc.org/iiif/info/...</td>\n",
              "      <td>City Parks Association Photographs</td>\n",
              "    </tr>\n",
              "    <tr>\n",
              "      <th>3</th>\n",
              "      <td>https://cdm16002.contentdm.oclc.org/iiif/info/...</td>\n",
              "      <td>Frank G. Zahn Railroad Photograph Collection</td>\n",
              "    </tr>\n",
              "    <tr>\n",
              "      <th>4</th>\n",
              "      <td>https://cdm16002.contentdm.oclc.org/iiif/info/...</td>\n",
              "      <td>Franklin H. Littell Papers</td>\n",
              "    </tr>\n",
              "  </tbody>\n",
              "</table>\n",
              "</div>"
            ],
            "text/plain": [
              "                                                  ID                                         Label\n",
              "0  https://cdm16002.contentdm.oclc.org/iiif/info/...                 Allied Posters of World War I\n",
              "1  https://cdm16002.contentdm.oclc.org/iiif/info/...          Ambler Campus History in Photographs\n",
              "2  https://cdm16002.contentdm.oclc.org/iiif/info/...            City Parks Association Photographs\n",
              "3  https://cdm16002.contentdm.oclc.org/iiif/info/...  Frank G. Zahn Railroad Photograph Collection\n",
              "4  https://cdm16002.contentdm.oclc.org/iiif/info/...                    Franklin H. Littell Papers"
            ]
          },
          "metadata": {},
          "execution_count": 27
        }
      ]
    },
    {
      "cell_type": "code",
      "metadata": {
        "id": "3RIpnn6NStr_"
      },
      "source": [
        "df.to_csv (r'manifest.csv', index = False, header=True)"
      ],
      "execution_count": 28,
      "outputs": []
    },
    {
      "cell_type": "code",
      "metadata": {
        "colab": {
          "base_uri": "https://localhost:8080/",
          "height": 17
        },
        "id": "7q1LRXJ_SuYI",
        "outputId": "43c48e8c-ee9e-44c6-ad15-c501a3296375"
      },
      "source": [
        "files.download('manifest.csv')"
      ],
      "execution_count": 29,
      "outputs": [
        {
          "output_type": "display_data",
          "data": {
            "application/javascript": [
              "\n",
              "    async function download(id, filename, size) {\n",
              "      if (!google.colab.kernel.accessAllowed) {\n",
              "        return;\n",
              "      }\n",
              "      const div = document.createElement('div');\n",
              "      const label = document.createElement('label');\n",
              "      label.textContent = `Downloading \"${filename}\": `;\n",
              "      div.appendChild(label);\n",
              "      const progress = document.createElement('progress');\n",
              "      progress.max = size;\n",
              "      div.appendChild(progress);\n",
              "      document.body.appendChild(div);\n",
              "\n",
              "      const buffers = [];\n",
              "      let downloaded = 0;\n",
              "\n",
              "      const channel = await google.colab.kernel.comms.open(id);\n",
              "      // Send a message to notify the kernel that we're ready.\n",
              "      channel.send({})\n",
              "\n",
              "      for await (const message of channel.messages) {\n",
              "        // Send a message to notify the kernel that we're ready.\n",
              "        channel.send({})\n",
              "        if (message.buffers) {\n",
              "          for (const buffer of message.buffers) {\n",
              "            buffers.push(buffer);\n",
              "            downloaded += buffer.byteLength;\n",
              "            progress.value = downloaded;\n",
              "          }\n",
              "        }\n",
              "      }\n",
              "      const blob = new Blob(buffers, {type: 'application/binary'});\n",
              "      const a = document.createElement('a');\n",
              "      a.href = window.URL.createObjectURL(blob);\n",
              "      a.download = filename;\n",
              "      div.appendChild(a);\n",
              "      a.click();\n",
              "      div.remove();\n",
              "    }\n",
              "  "
            ],
            "text/plain": [
              "<IPython.core.display.Javascript object>"
            ]
          },
          "metadata": {}
        },
        {
          "output_type": "display_data",
          "data": {
            "application/javascript": [
              "download(\"download_3fd07879-c499-4d8c-a762-9019187e65fb\", \"manifest.csv\", 3927)"
            ],
            "text/plain": [
              "<IPython.core.display.Javascript object>"
            ]
          },
          "metadata": {}
        }
      ]
    },
    {
      "cell_type": "markdown",
      "metadata": {
        "id": "MEtMz9xTTNpI"
      },
      "source": [
        "## Query a Collection\n",
        "\n",
        "The manifestURL variable determines what collection, such as WWII Posters, are queried. "
      ]
    },
    {
      "cell_type": "code",
      "metadata": {
        "id": "DkLX25IeTO9j"
      },
      "source": [
        "collectionUrl = 'https://cdm16002.contentdm.oclc.org/iiif/info/p16002coll9/p1.json'"
      ],
      "execution_count": 30,
      "outputs": []
    },
    {
      "cell_type": "code",
      "metadata": {
        "id": "2_MkylQSTUds"
      },
      "source": [
        "responseManifest = requests.get(collectionUrl)\n",
        "m = json.loads(responseManifest.text)"
      ],
      "execution_count": 31,
      "outputs": []
    },
    {
      "cell_type": "code",
      "metadata": {
        "colab": {
          "base_uri": "https://localhost:8080/"
        },
        "id": "CW15uddOTcyz",
        "outputId": "c6f53e9c-e902-4c42-e31f-f6a87a0d973c"
      },
      "source": [
        "csv_out = csv.writer(open('collection.csv', 'w'), delimiter = ',', quotechar = '\"', quoting = csv.QUOTE_MINIMAL)\n",
        "csv_out.writerow(['Title', 'Date', 'Contributor', 'Description', 'Subject'])"
      ],
      "execution_count": 32,
      "outputs": [
        {
          "output_type": "execute_result",
          "data": {
            "text/plain": [
              "44"
            ]
          },
          "metadata": {},
          "execution_count": 32
        }
      ]
    },
    {
      "cell_type": "code",
      "metadata": {
        "id": "WYsZWZr2TZq5"
      },
      "source": [
        "for i in m['manifests']:\n",
        "    title = date = contributor = description = subject = ''\n",
        "    \n",
        "    manifestItemUrl = i['@id']\n",
        "    responseManifestItem = requests.get(manifestItemUrl)\n",
        "    manifestItem = json.loads(responseManifestItem.text)\n",
        "\n",
        "    title = manifestItem['metadata'][0]['value']\n",
        "    date = manifestItem['metadata'][1]['value']\n",
        "    contributor = manifestItem['metadata'][2]['value']\n",
        "    description = manifestItem['metadata'][3]['value']\n",
        "    subject = manifestItem['metadata'][4]['value']\n",
        "    csv_out.writerow([title, date, contributor, description, subject])    "
      ],
      "execution_count": 33,
      "outputs": []
    },
    {
      "cell_type": "code",
      "metadata": {
        "colab": {
          "base_uri": "https://localhost:8080/",
          "height": 17
        },
        "id": "xr2OfPnFIzGv",
        "outputId": "1c5c9131-2a7e-4f91-e33f-7de53edc9fea"
      },
      "source": [
        "files.download('collection.csv')"
      ],
      "execution_count": 34,
      "outputs": [
        {
          "output_type": "display_data",
          "data": {
            "application/javascript": [
              "\n",
              "    async function download(id, filename, size) {\n",
              "      if (!google.colab.kernel.accessAllowed) {\n",
              "        return;\n",
              "      }\n",
              "      const div = document.createElement('div');\n",
              "      const label = document.createElement('label');\n",
              "      label.textContent = `Downloading \"${filename}\": `;\n",
              "      div.appendChild(label);\n",
              "      const progress = document.createElement('progress');\n",
              "      progress.max = size;\n",
              "      div.appendChild(progress);\n",
              "      document.body.appendChild(div);\n",
              "\n",
              "      const buffers = [];\n",
              "      let downloaded = 0;\n",
              "\n",
              "      const channel = await google.colab.kernel.comms.open(id);\n",
              "      // Send a message to notify the kernel that we're ready.\n",
              "      channel.send({})\n",
              "\n",
              "      for await (const message of channel.messages) {\n",
              "        // Send a message to notify the kernel that we're ready.\n",
              "        channel.send({})\n",
              "        if (message.buffers) {\n",
              "          for (const buffer of message.buffers) {\n",
              "            buffers.push(buffer);\n",
              "            downloaded += buffer.byteLength;\n",
              "            progress.value = downloaded;\n",
              "          }\n",
              "        }\n",
              "      }\n",
              "      const blob = new Blob(buffers, {type: 'application/binary'});\n",
              "      const a = document.createElement('a');\n",
              "      a.href = window.URL.createObjectURL(blob);\n",
              "      a.download = filename;\n",
              "      div.appendChild(a);\n",
              "      a.click();\n",
              "      div.remove();\n",
              "    }\n",
              "  "
            ],
            "text/plain": [
              "<IPython.core.display.Javascript object>"
            ]
          },
          "metadata": {}
        },
        {
          "output_type": "display_data",
          "data": {
            "application/javascript": [
              "download(\"download_05f4b54a-4255-42fe-b916-760d10b3df2a\", \"collection.csv\", 387929)"
            ],
            "text/plain": [
              "<IPython.core.display.Javascript object>"
            ]
          },
          "metadata": {}
        }
      ]
    },
    {
      "cell_type": "code",
      "metadata": {
        "id": "fF2q17ZT-_WC",
        "colab": {
          "base_uri": "https://localhost:8080/",
          "height": 647
        },
        "outputId": "a39e8118-0a5e-4783-d2a8-6dae5b454d7a"
      },
      "source": [
        "df = pd.read_csv('collection.csv')\n",
        "df.head()"
      ],
      "execution_count": 35,
      "outputs": [
        {
          "output_type": "execute_result",
          "data": {
            "application/vnd.google.colaboratory.module+javascript": "\n      import \"https://ssl.gstatic.com/colaboratory/data_table/a6224c040fa35dcf/data_table.js\";\n\n      window.createDataTable({\n        data: [[{\n            'v': 0,\n            'f': \"0\",\n        },\n\"Sottoscrivete al prestito\",\n\"[ca. 1917]\",\n\"Capranesi, Giovanni, 1852-1921, artist.; Istituto italiano d'arti grafiche (Bergamo, Italy), publisher.;\",\n\"Allegorical depiction of Italy as a female wearing classical armor and carrying a Romanesque sword and shield confronting the astonished male Ostrogoth. representing Germany, who holds a spiked club and a torch.  Text states, \\\"Subscribe to the loan.\\\"\",\n\"Date of publication from Rawls, Walton, Wake up, America!: World War I and the American poster, p. 30.  Signed: G. Capranesi. Orientation: Vertical.\"],\n [{\n            'v': 1,\n            'f': \"1\",\n        },\n\"Step into your place\",\n\"Poster (Great Britain. Parliamentary Recruiting Committee) ; no. 104.\",\n\"1915\",\n\"Great Britain. Parliamentary Recruiting Committee, publisher.; David Allen & Sons, printer.;\",\n\"British recruiting poster.  Illustration depicts a long curving line of men beginning in the lower right as civilians and turning into soldiers as they march into the background.  Text states, \\\"Step into your place.\\\" Historical note: Minimizing conflict between social classes on the homefront was a major concern of politicians during the war.  By including many different types of people in the marching crowd, including farmers, scholars,  law officials, businessmen, and laborers, this poster provides an example of propaganda aimed at encouraging national solidarity and discouraging class conflict.\"],\n [{\n            'v': 2,\n            'f': \"2\",\n        },\n\"Indian Ink\",\n\"1916\",\n\"Pereira, Harold B., artist.;\",\n\"Poster advertising the Christmas 1916 edition of \\\"Indian Ink\\\" magazine, edited by Everard Digby, which contained forty pictures, ninteen color plates, and forty stories, articles, and verses.  Proceeds from the sale of this magazine went to the Imperial Indian War Fund, and a caption at the bottom of the poster reads, \\\"Send It Home for Christmas.\\\"  The poster's illustration is the cover of the magazine, which features two Indian soldiers in British colonial uniform running toward the observer with an explosion on their left. Historical note: In addition to paying its own war costs, which rose from 20 million pounds in 1914 to 140 million pounds in 1918, the colony of India gave 100 million pounds to the British government as a war loan in 1916.  These expenditures were paid for by heavy taxes on the Indian people and war funds like the one mentioned on this poster.\",\n\"Signed: Harold B. Pereira, 16 [i.e. 1916?]. Orientation: Vertical.\"],\n [{\n            'v': 3,\n            'f': \"3\",\n        },\n\"Per la liberta\\u0300 e la civilta\\u0300 del mondo\",\n\"1918\",\n\"Dudovich, Marcello, 1878-1962, artist.; Atelier Butteri, printer.;\",\n\"Italian poster urging subscription to the national war loan \\\"for the liberty and the civility of the world.\\\"  Depicts four soldiers representing each of the four members of the Allied powers in 1918: Italy, France, Britain, and the United States.  The flags of each of these powers are draped in the background.\",\n\"Signed: M. Dudovich. Date of publication from http://www.internationalposter.com. Orientation: Vertical.\"],\n [{\n            'v': 4,\n            'f': \"4\",\n        },\n\"The watchers of the seas\",\n\"[ca. 1914-1918]\",\n\"Raven-Hill, L. (Leonard), 1867-1942, artist.; Johnson, Riddle, & Co., printer.;\",\n\"British naval recruiting poster that asks for men from 15 to 40 years old to enlist.  Illustration depicts a sailor keeping a night-watch, holding a flashlight and standing next to a spotlight, while an enemy submarine surfaces in the distance.   Historical note: German U-boats devastated Allied shipping throughout World War I, sinking over 11 million tons of supplies during the conflict.\",\n\"Signed: \\\"L. Ravenhill.\\\" Date based on the dates of World War I. Orientation: Vertical.\"]],\n        columns: [[\"number\", \"index\"], [\"string\", \"Title\"], [\"string\", \"Date\"], [\"string\", \"Contributor\"], [\"string\", \"Description\"], [\"string\", \"Subject\"]],\n        columnOptions: [{\"width\": \"1px\", \"className\": \"index_column\"}],\n        rowsPerPage: 25,\n        helpUrl: \"https://colab.research.google.com/notebooks/data_table.ipynb\",\n        suppressOutputScrolling: true,\n        minimumWidth: undefined,\n      });\n    ",
            "text/html": [
              "<div>\n",
              "<style scoped>\n",
              "    .dataframe tbody tr th:only-of-type {\n",
              "        vertical-align: middle;\n",
              "    }\n",
              "\n",
              "    .dataframe tbody tr th {\n",
              "        vertical-align: top;\n",
              "    }\n",
              "\n",
              "    .dataframe thead th {\n",
              "        text-align: right;\n",
              "    }\n",
              "</style>\n",
              "<table border=\"1\" class=\"dataframe\">\n",
              "  <thead>\n",
              "    <tr style=\"text-align: right;\">\n",
              "      <th></th>\n",
              "      <th>Title</th>\n",
              "      <th>Date</th>\n",
              "      <th>Contributor</th>\n",
              "      <th>Description</th>\n",
              "      <th>Subject</th>\n",
              "    </tr>\n",
              "  </thead>\n",
              "  <tbody>\n",
              "    <tr>\n",
              "      <th>0</th>\n",
              "      <td>Sottoscrivete al prestito</td>\n",
              "      <td>[ca. 1917]</td>\n",
              "      <td>Capranesi, Giovanni, 1852-1921, artist.; Istit...</td>\n",
              "      <td>Allegorical depiction of Italy as a female wea...</td>\n",
              "      <td>Date of publication from Rawls, Walton, Wake u...</td>\n",
              "    </tr>\n",
              "    <tr>\n",
              "      <th>1</th>\n",
              "      <td>Step into your place</td>\n",
              "      <td>Poster (Great Britain. Parliamentary Recruitin...</td>\n",
              "      <td>1915</td>\n",
              "      <td>Great Britain. Parliamentary Recruiting Commit...</td>\n",
              "      <td>British recruiting poster.  Illustration depic...</td>\n",
              "    </tr>\n",
              "    <tr>\n",
              "      <th>2</th>\n",
              "      <td>Indian Ink</td>\n",
              "      <td>1916</td>\n",
              "      <td>Pereira, Harold B., artist.;</td>\n",
              "      <td>Poster advertising the Christmas 1916 edition ...</td>\n",
              "      <td>Signed: Harold B. Pereira, 16 [i.e. 1916?]. Or...</td>\n",
              "    </tr>\n",
              "    <tr>\n",
              "      <th>3</th>\n",
              "      <td>Per la libertà e la civiltà del mondo</td>\n",
              "      <td>1918</td>\n",
              "      <td>Dudovich, Marcello, 1878-1962, artist.; Atelie...</td>\n",
              "      <td>Italian poster urging subscription to the nati...</td>\n",
              "      <td>Signed: M. Dudovich. Date of publication from ...</td>\n",
              "    </tr>\n",
              "    <tr>\n",
              "      <th>4</th>\n",
              "      <td>The watchers of the seas</td>\n",
              "      <td>[ca. 1914-1918]</td>\n",
              "      <td>Raven-Hill, L. (Leonard), 1867-1942, artist.; ...</td>\n",
              "      <td>British naval recruiting poster that asks for ...</td>\n",
              "      <td>Signed: \"L. Ravenhill.\" Date based on the date...</td>\n",
              "    </tr>\n",
              "  </tbody>\n",
              "</table>\n",
              "</div>"
            ],
            "text/plain": [
              "                                     Title  ...                                            Subject\n",
              "0                Sottoscrivete al prestito  ...  Date of publication from Rawls, Walton, Wake u...\n",
              "1                     Step into your place  ...  British recruiting poster.  Illustration depic...\n",
              "2                               Indian Ink  ...  Signed: Harold B. Pereira, 16 [i.e. 1916?]. Or...\n",
              "3  Per la libertà e la civiltà del mondo  ...  Signed: M. Dudovich. Date of publication from ...\n",
              "4                 The watchers of the seas  ...  Signed: \"L. Ravenhill.\" Date based on the date...\n",
              "\n",
              "[5 rows x 5 columns]"
            ]
          },
          "metadata": {},
          "execution_count": 35
        }
      ]
    }
  ]
}
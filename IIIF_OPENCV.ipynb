{
  "nbformat": 4,
  "nbformat_minor": 0,
  "metadata": {
    "kernelspec": {
      "display_name": "Python 3",
      "language": "python",
      "name": "python3"
    },
    "language_info": {
      "codemirror_mode": {
        "name": "ipython",
        "version": 3
      },
      "file_extension": ".py",
      "mimetype": "text/x-python",
      "name": "python",
      "nbconvert_exporter": "python",
      "pygments_lexer": "ipython3",
      "version": "3.6.3"
    },
    "colab": {
      "name": "IIIF OPENCV.ipynb",
      "provenance": [],
      "collapsed_sections": [],
      "include_colab_link": true
    },
    "widgets": {
      "application/vnd.jupyter.widget-state+json": {
        "ea52d6cab2b04ca48fc6da59b723bf1c": {
          "model_module": "@jupyter-widgets/controls",
          "model_name": "IntProgressModel",
          "state": {
            "_view_name": "ProgressView",
            "style": "IPY_MODEL_8c9cde4e48fc431f9a958fb17e4b9122",
            "_dom_classes": [],
            "description": "Progress:",
            "_model_name": "IntProgressModel",
            "bar_style": "",
            "max": 4,
            "_view_module": "@jupyter-widgets/controls",
            "_model_module_version": "1.5.0",
            "value": 3,
            "_view_count": null,
            "_view_module_version": "1.5.0",
            "orientation": "horizontal",
            "min": 0,
            "description_tooltip": null,
            "_model_module": "@jupyter-widgets/controls",
            "layout": "IPY_MODEL_eba7ca6d63ab4c01be69299014c23bb3"
          }
        },
        "8c9cde4e48fc431f9a958fb17e4b9122": {
          "model_module": "@jupyter-widgets/controls",
          "model_name": "ProgressStyleModel",
          "state": {
            "_view_name": "StyleView",
            "_model_name": "ProgressStyleModel",
            "description_width": "",
            "_view_module": "@jupyter-widgets/base",
            "_model_module_version": "1.5.0",
            "_view_count": null,
            "_view_module_version": "1.2.0",
            "bar_color": null,
            "_model_module": "@jupyter-widgets/controls"
          }
        },
        "eba7ca6d63ab4c01be69299014c23bb3": {
          "model_module": "@jupyter-widgets/base",
          "model_name": "LayoutModel",
          "state": {
            "_view_name": "LayoutView",
            "grid_template_rows": null,
            "right": null,
            "justify_content": null,
            "_view_module": "@jupyter-widgets/base",
            "overflow": null,
            "_model_module_version": "1.2.0",
            "_view_count": null,
            "flex_flow": null,
            "width": null,
            "min_width": null,
            "border": null,
            "align_items": null,
            "bottom": null,
            "_model_module": "@jupyter-widgets/base",
            "top": null,
            "grid_column": null,
            "overflow_y": null,
            "overflow_x": null,
            "grid_auto_flow": null,
            "grid_area": null,
            "grid_template_columns": null,
            "flex": null,
            "_model_name": "LayoutModel",
            "justify_items": null,
            "grid_row": null,
            "max_height": null,
            "align_content": null,
            "visibility": null,
            "align_self": null,
            "height": null,
            "min_height": null,
            "padding": null,
            "grid_auto_rows": null,
            "grid_gap": null,
            "max_width": null,
            "order": null,
            "_view_module_version": "1.2.0",
            "grid_template_areas": null,
            "object_position": null,
            "object_fit": null,
            "grid_auto_columns": null,
            "margin": null,
            "display": null,
            "left": null
          }
        }
      }
    }
  },
  "cells": [
    {
      "cell_type": "markdown",
      "metadata": {
        "id": "view-in-github",
        "colab_type": "text"
      },
      "source": [
        "<a href=\"https://colab.research.google.com/github/hawc2/contentdm-iiif-api/blob/main/IIIF_OPENCV.ipynb\" target=\"_parent\"><img src=\"https://colab.research.google.com/assets/colab-badge.svg\" alt=\"Open In Colab\"/></a>"
      ]
    },
    {
      "cell_type": "markdown",
      "metadata": {
        "id": "7hQip3faA3Di"
      },
      "source": [
        "# IIIF OPEN CV\n",
        "\n",
        "https://codingdavinci.de/events/ost/\n",
        "\n",
        "https://github.com/leanderseige/cdvost2018_iiifworkshop\n",
        "\n",
        "This notebook makes use of public IIIF data from the National Gallery of Art.\n",
        "\n",
        "Adapt for TUL ContentDM IIIF"
      ]
    },
    {
      "cell_type": "markdown",
      "metadata": {
        "id": "i1aQPo4IBUOD"
      },
      "source": [
        "### Step 1: Import some libraries."
      ]
    },
    {
      "cell_type": "code",
      "metadata": {
        "id": "_5EoIvUsA3Dv"
      },
      "source": [
        "%matplotlib inline\n",
        "import numpy as np\n",
        "import urllib.request\n",
        "from matplotlib import pyplot as plt\n",
        "import cv2\n",
        "import json\n",
        "from IPython.display import Image, display\n",
        "from IPython.core.display import HTML \n",
        "import ipywidgets as widgets\n",
        "from random import randint"
      ],
      "execution_count": 1,
      "outputs": []
    },
    {
      "cell_type": "markdown",
      "metadata": {
        "id": "WuTJYS4vA3D2"
      },
      "source": [
        "### Step 2: Read IIIF Image API endpoints from NGAs Highlights Manifest."
      ]
    },
    {
      "cell_type": "code",
      "metadata": {
        "scrolled": true,
        "id": "nWwG3a1zA3D5"
      },
      "source": [
        "#url = \"https://cdm16002.contentdm.oclc.org/iiif/info/p16002coll4/4/manifest.json\"\n",
        "url = \"https://cdm16002.contentdm.oclc.org/iiif/info/p16002coll9/manifest.json\""
      ],
      "execution_count": 37,
      "outputs": []
    },
    {
      "cell_type": "code",
      "metadata": {
        "id": "sQ6m9kB3BtbK"
      },
      "source": [
        "resp = urllib.request.urlopen(url)\n",
        "data = resp.read().decode(\"utf-8\")\n",
        "data = json.loads(data)\n",
        "pid = 0\n",
        "img_urls = {}"
      ],
      "execution_count": 10,
      "outputs": []
    },
    {
      "cell_type": "code",
      "metadata": {
        "id": "eoBKMBuvBvLl"
      },
      "source": [
        "for c in data['sequences'][0]['canvases']:\n",
        "    img_urls[pid]=c['images'][0]['resource']['service']['@id']\n",
        "    print (img_urls[pid])\n",
        "    pid = pid +1\n",
        "print (\"Ready.\")"
      ],
      "execution_count": null,
      "outputs": []
    },
    {
      "cell_type": "markdown",
      "metadata": {
        "id": "SkT3rMOYA3D_"
      },
      "source": [
        "### Step 3: Let's get us some generic progress bar."
      ]
    },
    {
      "cell_type": "code",
      "metadata": {
        "id": "Qpa0myebA3EH"
      },
      "source": [
        "progbar = widgets.IntProgress(\n",
        "    value=0,\n",
        "    min=0,\n",
        "    max=pid,\n",
        "    step=1,\n",
        "    description='Progress:',\n",
        "    bar_style='', # 'success', 'info', 'warning', 'danger' or ''\n",
        "    orientation='horizontal')"
      ],
      "execution_count": 12,
      "outputs": []
    },
    {
      "cell_type": "markdown",
      "metadata": {
        "id": "v_8QZQ5eA3EK"
      },
      "source": [
        "### Step 4: Define a function to read a binary image from the web."
      ]
    },
    {
      "cell_type": "code",
      "metadata": {
        "id": "T0nnz1zBA3EL"
      },
      "source": [
        "def url_to_image(url):\n",
        "    resp = urllib.request.urlopen(url)\n",
        "    image = np.asarray(bytearray(resp.read()), dtype=\"uint8\")\n",
        "    image = cv2.imdecode(image, cv2.IMREAD_COLOR)\n",
        "    image = cv2.cvtColor(image, cv2.COLOR_BGR2RGB)\n",
        "    return image"
      ],
      "execution_count": 13,
      "outputs": []
    },
    {
      "cell_type": "markdown",
      "metadata": {
        "id": "N0uAE7NDA3EN"
      },
      "source": [
        "### Step 5: Read all images with 4% of their actual size."
      ]
    },
    {
      "cell_type": "code",
      "metadata": {
        "id": "czQMDdq9A3EP",
        "colab": {
          "base_uri": "https://localhost:8080/",
          "height": 1000,
          "referenced_widgets": [
            "ea52d6cab2b04ca48fc6da59b723bf1c",
            "8c9cde4e48fc431f9a958fb17e4b9122",
            "eba7ca6d63ab4c01be69299014c23bb3"
          ]
        },
        "outputId": "9a52add8-bef1-4a70-ed0e-7f20795578e5"
      },
      "source": [
        "display(progbar)\n",
        "\n",
        "img_smalls = {}\n",
        "for pid in img_urls:\n",
        "    progbar.value = pid\n",
        "    turl = img_urls[pid]+\"/full/pct:15/0/default.jpg\"\n",
        "    img_smalls[pid] = url_to_image(turl)\n",
        "    display(Image(url=turl, width=400, height=400))\n",
        "    if pid == 1000:\n",
        "        break"
      ],
      "execution_count": 16,
      "outputs": [
        {
          "output_type": "display_data",
          "data": {
            "application/vnd.jupyter.widget-view+json": {
              "model_id": "ea52d6cab2b04ca48fc6da59b723bf1c",
              "version_minor": 0,
              "version_major": 2
            },
            "text/plain": [
              "IntProgress(value=0, description='Progress:', max=4)"
            ]
          },
          "metadata": {
            "tags": []
          }
        },
        {
          "output_type": "display_data",
          "data": {
            "text/html": [
              "<img src=\"https://cdm16002.contentdm.oclc.org/digital/iiif/p16002coll4/0/full/pct:15/0/default.jpg\" width=\"400\" height=\"400\"/>"
            ],
            "text/plain": [
              "<IPython.core.display.Image object>"
            ]
          },
          "metadata": {
            "tags": []
          }
        },
        {
          "output_type": "display_data",
          "data": {
            "text/html": [
              "<img src=\"https://cdm16002.contentdm.oclc.org/digital/iiif/p16002coll4/1/full/pct:15/0/default.jpg\" width=\"400\" height=\"400\"/>"
            ],
            "text/plain": [
              "<IPython.core.display.Image object>"
            ]
          },
          "metadata": {
            "tags": []
          }
        },
        {
          "output_type": "display_data",
          "data": {
            "text/html": [
              "<img src=\"https://cdm16002.contentdm.oclc.org/digital/iiif/p16002coll4/2/full/pct:15/0/default.jpg\" width=\"400\" height=\"400\"/>"
            ],
            "text/plain": [
              "<IPython.core.display.Image object>"
            ]
          },
          "metadata": {
            "tags": []
          }
        },
        {
          "output_type": "display_data",
          "data": {
            "text/html": [
              "<img src=\"https://cdm16002.contentdm.oclc.org/digital/iiif/p16002coll4/3/full/pct:15/0/default.jpg\" width=\"400\" height=\"400\"/>"
            ],
            "text/plain": [
              "<IPython.core.display.Image object>"
            ]
          },
          "metadata": {
            "tags": []
          }
        }
      ]
    },
    {
      "cell_type": "markdown",
      "metadata": {
        "id": "QGff5M85A3EV"
      },
      "source": [
        "### Step 6: Get us a function to detect faces using the opencv lib."
      ]
    },
    {
      "cell_type": "code",
      "metadata": {
        "id": "Le82FusGA3Ee"
      },
      "source": [
        "def analyze_images(image):\n",
        "    #faceCascade = cv2.CascadeClassifier(\"haarcascades/haarcascade_frontalface_alt.xml\")\n",
        "    faceCascade = cv2.CascadeClassifier(cv2.data.haarcascades + 'haarcascade_frontalface_default.xml')\n",
        "    faces = faceCascade.detectMultiScale(\n",
        "        image,\n",
        "        scaleFactor=1.1,\n",
        "        minNeighbors=3,\n",
        "        minSize=(20, 20),\n",
        "        flags = cv2.CASCADE_SCALE_IMAGE\n",
        "    )\n",
        "    return faces"
      ],
      "execution_count": 23,
      "outputs": []
    },
    {
      "cell_type": "markdown",
      "metadata": {
        "id": "uHtJRQOxA3Ee"
      },
      "source": [
        "### Step 7: Find all faces in the images.\n",
        "Save all coodinates multiplied by 25 as we retrieved the images scaled to 4%."
      ]
    },
    {
      "cell_type": "code",
      "metadata": {
        "id": "F1jI1tKzA3Eg",
        "colab": {
          "base_uri": "https://localhost:8080/",
          "height": 66,
          "referenced_widgets": [
            "ea52d6cab2b04ca48fc6da59b723bf1c",
            "8c9cde4e48fc431f9a958fb17e4b9122",
            "eba7ca6d63ab4c01be69299014c23bb3"
          ]
        },
        "outputId": "12fd45fb-141b-42a2-db50-c137d546ed12"
      },
      "source": [
        "display(progbar)\n",
        "\n",
        "faces_xy = {}\n",
        "fid = 0\n",
        "for pid in img_smalls:\n",
        "    progbar.value=pid\n",
        "    faces = analyze_images(img_smalls[pid])\n",
        "    for (x, y, w, h) in faces:\n",
        "        faces_xy[fid] = {}\n",
        "        faces_xy[fid]['pid'] = pid\n",
        "        faces_xy[fid]['x'] = x*25\n",
        "        faces_xy[fid]['y'] = y*25\n",
        "        faces_xy[fid]['w'] = w*25\n",
        "        faces_xy[fid]['h'] = h*25\n",
        "        fid = fid +1\n",
        "        \n",
        "print (\"Found {0} faces!\".format(len(faces_xy)))"
      ],
      "execution_count": 24,
      "outputs": [
        {
          "output_type": "display_data",
          "data": {
            "application/vnd.jupyter.widget-view+json": {
              "model_id": "ea52d6cab2b04ca48fc6da59b723bf1c",
              "version_minor": 0,
              "version_major": 2
            },
            "text/plain": [
              "IntProgress(value=0, description='Progress:', max=4)"
            ]
          },
          "metadata": {
            "tags": []
          }
        },
        {
          "output_type": "stream",
          "text": [
            "Found 9 faces!\n"
          ],
          "name": "stdout"
        }
      ]
    },
    {
      "cell_type": "markdown",
      "metadata": {
        "id": "q1heD3ytA3Eh"
      },
      "source": [
        "### Step 8: Generate URLs to the facial regions for each recognized face."
      ]
    },
    {
      "cell_type": "code",
      "metadata": {
        "scrolled": true,
        "id": "NfUaWyxzA3Eh"
      },
      "source": [
        "for fid in faces_xy:\n",
        "    pid = faces_xy[fid]['pid']\n",
        "    x = faces_xy[fid]['x']\n",
        "    y = faces_xy[fid]['y']\n",
        "    w = faces_xy[fid]['w']\n",
        "    h = faces_xy[fid]['h']\n",
        "    url = img_urls[pid]+\"/%d,%d,%d,%d/300,/0/native.jpg\"%(x,y,w,h)\n",
        "    faces_xy[fid]['quick_url'] = url"
      ],
      "execution_count": 25,
      "outputs": []
    },
    {
      "cell_type": "markdown",
      "metadata": {
        "id": "NbXIILGnA3Ei"
      },
      "source": [
        "### Step 9: Display what we have done so far."
      ]
    },
    {
      "cell_type": "code",
      "metadata": {
        "id": "ydouDYkEA3Ej",
        "colab": {
          "base_uri": "https://localhost:8080/",
          "height": 434
        },
        "outputId": "d96bff08-a4e1-444a-a914-0ee18348ab4d"
      },
      "source": [
        "for fid in faces_xy:\n",
        "    print(faces_xy[fid]['quick_url'])\n",
        "    display(Image(url=faces_xy[fid]['quick_url']))\n",
        "   "
      ],
      "execution_count": 26,
      "outputs": [
        {
          "output_type": "stream",
          "text": [
            "https://cdm16002.contentdm.oclc.org/digital/iiif/p16002coll4/1/4475,1800,1750,1750/300,/0/native.jpg\n"
          ],
          "name": "stdout"
        },
        {
          "output_type": "display_data",
          "data": {
            "text/html": [
              "<img src=\"https://cdm16002.contentdm.oclc.org/digital/iiif/p16002coll4/1/4475,1800,1750,1750/300,/0/native.jpg\"/>"
            ],
            "text/plain": [
              "<IPython.core.display.Image object>"
            ]
          },
          "metadata": {
            "tags": []
          }
        },
        {
          "output_type": "stream",
          "text": [
            "https://cdm16002.contentdm.oclc.org/digital/iiif/p16002coll4/1/10150,13750,1600,1600/300,/0/native.jpg\n"
          ],
          "name": "stdout"
        },
        {
          "output_type": "display_data",
          "data": {
            "text/html": [
              "<img src=\"https://cdm16002.contentdm.oclc.org/digital/iiif/p16002coll4/1/10150,13750,1600,1600/300,/0/native.jpg\"/>"
            ],
            "text/plain": [
              "<IPython.core.display.Image object>"
            ]
          },
          "metadata": {
            "tags": []
          }
        },
        {
          "output_type": "stream",
          "text": [
            "https://cdm16002.contentdm.oclc.org/digital/iiif/p16002coll4/2/12825,1000,1425,1425/300,/0/native.jpg\n"
          ],
          "name": "stdout"
        },
        {
          "output_type": "display_data",
          "data": {
            "text/html": [
              "<img src=\"https://cdm16002.contentdm.oclc.org/digital/iiif/p16002coll4/2/12825,1000,1425,1425/300,/0/native.jpg\"/>"
            ],
            "text/plain": [
              "<IPython.core.display.Image object>"
            ]
          },
          "metadata": {
            "tags": []
          }
        },
        {
          "output_type": "stream",
          "text": [
            "https://cdm16002.contentdm.oclc.org/digital/iiif/p16002coll4/2/10100,6000,1900,1900/300,/0/native.jpg\n"
          ],
          "name": "stdout"
        },
        {
          "output_type": "display_data",
          "data": {
            "text/html": [
              "<img src=\"https://cdm16002.contentdm.oclc.org/digital/iiif/p16002coll4/2/10100,6000,1900,1900/300,/0/native.jpg\"/>"
            ],
            "text/plain": [
              "<IPython.core.display.Image object>"
            ]
          },
          "metadata": {
            "tags": []
          }
        },
        {
          "output_type": "stream",
          "text": [
            "https://cdm16002.contentdm.oclc.org/digital/iiif/p16002coll4/2/12900,9925,1525,1525/300,/0/native.jpg\n"
          ],
          "name": "stdout"
        },
        {
          "output_type": "display_data",
          "data": {
            "text/html": [
              "<img src=\"https://cdm16002.contentdm.oclc.org/digital/iiif/p16002coll4/2/12900,9925,1525,1525/300,/0/native.jpg\"/>"
            ],
            "text/plain": [
              "<IPython.core.display.Image object>"
            ]
          },
          "metadata": {
            "tags": []
          }
        },
        {
          "output_type": "stream",
          "text": [
            "https://cdm16002.contentdm.oclc.org/digital/iiif/p16002coll4/2/14400,15150,1500,1500/300,/0/native.jpg\n"
          ],
          "name": "stdout"
        },
        {
          "output_type": "display_data",
          "data": {
            "text/html": [
              "<img src=\"https://cdm16002.contentdm.oclc.org/digital/iiif/p16002coll4/2/14400,15150,1500,1500/300,/0/native.jpg\"/>"
            ],
            "text/plain": [
              "<IPython.core.display.Image object>"
            ]
          },
          "metadata": {
            "tags": []
          }
        },
        {
          "output_type": "stream",
          "text": [
            "https://cdm16002.contentdm.oclc.org/digital/iiif/p16002coll4/2/3450,17325,1350,1350/300,/0/native.jpg\n"
          ],
          "name": "stdout"
        },
        {
          "output_type": "display_data",
          "data": {
            "text/html": [
              "<img src=\"https://cdm16002.contentdm.oclc.org/digital/iiif/p16002coll4/2/3450,17325,1350,1350/300,/0/native.jpg\"/>"
            ],
            "text/plain": [
              "<IPython.core.display.Image object>"
            ]
          },
          "metadata": {
            "tags": []
          }
        },
        {
          "output_type": "stream",
          "text": [
            "https://cdm16002.contentdm.oclc.org/digital/iiif/p16002coll4/2/12775,17350,1525,1525/300,/0/native.jpg\n"
          ],
          "name": "stdout"
        },
        {
          "output_type": "display_data",
          "data": {
            "text/html": [
              "<img src=\"https://cdm16002.contentdm.oclc.org/digital/iiif/p16002coll4/2/12775,17350,1525,1525/300,/0/native.jpg\"/>"
            ],
            "text/plain": [
              "<IPython.core.display.Image object>"
            ]
          },
          "metadata": {
            "tags": []
          }
        },
        {
          "output_type": "stream",
          "text": [
            "https://cdm16002.contentdm.oclc.org/digital/iiif/p16002coll4/3/15625,3000,1300,1300/300,/0/native.jpg\n"
          ],
          "name": "stdout"
        },
        {
          "output_type": "display_data",
          "data": {
            "text/html": [
              "<img src=\"https://cdm16002.contentdm.oclc.org/digital/iiif/p16002coll4/3/15625,3000,1300,1300/300,/0/native.jpg\"/>"
            ],
            "text/plain": [
              "<IPython.core.display.Image object>"
            ]
          },
          "metadata": {
            "tags": []
          }
        }
      ]
    },
    {
      "cell_type": "markdown",
      "metadata": {
        "id": "HAhtbO-MFDXO"
      },
      "source": [
        "# Write Script to Save Image Files and Metadata\n",
        "\n",
        "Was there something like this in one of the other notebooks?"
      ]
    },
    {
      "cell_type": "markdown",
      "metadata": {
        "id": "Sx1LSnKqA3Ej"
      },
      "source": [
        "### Use Case 1: A IIIF Memory Game\n",
        "\n",
        "Write all face URLs to a Javascript file in order to feed them into a Memory game. This game actually uses IIIF Image API endpoints. "
      ]
    },
    {
      "cell_type": "code",
      "metadata": {
        "colab": {
          "base_uri": "https://localhost:8080/"
        },
        "id": "Ut6tI2yFFK_P",
        "outputId": "2b85b940-57fb-4723-f0cb-97dbe8afd5d0"
      },
      "source": [
        "!git clone https://github.com/leanderseige/cdvost2018_iiifworkshop.git iiifgame"
      ],
      "execution_count": 31,
      "outputs": [
        {
          "output_type": "stream",
          "text": [
            "Cloning into 'iiifgame'...\n",
            "remote: Enumerating objects: 174, done.\u001b[K\n",
            "remote: Total 174 (delta 0), reused 0 (delta 0), pack-reused 174\u001b[K\n",
            "Receiving objects: 100% (174/174), 13.57 MiB | 30.20 MiB/s, done.\n",
            "Resolving deltas: 100% (101/101), done.\n"
          ],
          "name": "stdout"
        }
      ]
    },
    {
      "cell_type": "code",
      "metadata": {
        "colab": {
          "base_uri": "https://localhost:8080/"
        },
        "id": "G0sAqieSFgFV",
        "outputId": "992ad014-8772-4cc1-9cf7-5eab0e4e2e8f"
      },
      "source": [
        "cd iiifgame"
      ],
      "execution_count": 32,
      "outputs": [
        {
          "output_type": "stream",
          "text": [
            "/content/iiifgame\n"
          ],
          "name": "stdout"
        }
      ]
    },
    {
      "cell_type": "code",
      "metadata": {
        "id": "mQQsA1alA3Ek",
        "colab": {
          "base_uri": "https://localhost:8080/",
          "height": 34
        },
        "outputId": "00354faa-89c3-411f-9dd4-cbb56986a093"
      },
      "source": [
        "file = open(\"game/urls.js\",\"w\") \n",
        "file.write(\"var urls=[\") \n",
        "for fid in faces_xy:\n",
        "    if fid > 0:\n",
        "        file.write(\",\")\n",
        "    file.write('\"'+faces_xy[fid]['quick_url']+'\"')\n",
        "file.write(\"];\")  \n",
        "file.close() \n",
        "\n",
        "HTML('<a target=\"_blank\" href=\"game/game.html\">Game</a>')"
      ],
      "execution_count": 33,
      "outputs": [
        {
          "output_type": "execute_result",
          "data": {
            "text/html": [
              "<a target=\"_blank\" href=\"game/game.html\">Game</a>"
            ],
            "text/plain": [
              "<IPython.core.display.HTML object>"
            ]
          },
          "metadata": {
            "tags": []
          },
          "execution_count": 33
        }
      ]
    },
    {
      "cell_type": "markdown",
      "metadata": {
        "id": "-RHLnp8KA3Em"
      },
      "source": [
        "### Use Case 2: Random Avatar Generator.\n",
        "\n",
        "Choose randomly the upper 50% of a face, the middle 20% of another face and the lower 30% of a third face and combine it to a random patchwork portrait. Click on the image parts to flip the image horizontally."
      ]
    },
    {
      "cell_type": "code",
      "metadata": {
        "scrolled": true,
        "id": "JD_Av1-xA3Eo",
        "colab": {
          "base_uri": "https://localhost:8080/",
          "height": 34
        },
        "outputId": "0193e331-522e-4d04-e6c3-a38150535c66"
      },
      "source": [
        "efile = open(\"generator/eurls.js\",\"w\") \n",
        "efile.write(\"var eurls=[\") \n",
        "\n",
        "nfile = open(\"generator/nurls.js\",\"w\") \n",
        "nfile.write(\"var nurls=[\") \n",
        "\n",
        "mfile = open(\"generator/murls.js\",\"w\") \n",
        "mfile.write(\"var murls=[\") \n",
        "\n",
        "for fid in faces_xy:\n",
        "    if fid > 0:\n",
        "        efile.write(\",\")\n",
        "        nfile.write(\",\")\n",
        "        mfile.write(\",\")\n",
        "    u = img_urls[faces_xy[fid]['pid']]\n",
        "    x = faces_xy[fid]['x']\n",
        "    y = faces_xy[fid]['y']\n",
        "    w = faces_xy[fid]['w']\n",
        "    h = faces_xy[fid]['h']\n",
        "    efile.write('\"'+u+\"/%d,%d,%d,%d/300,/0/native.jpg\"%(x,y,w,int(h*0.5))+'\"');\n",
        "    nfile.write('\"'+u+\"/%d,%d,%d,%d/300,/0/native.jpg\"%(x,y+int(h*0.5),w,int(h*0.2))+'\"');\n",
        "    mfile.write('\"'+u+\"/%d,%d,%d,%d/300,/0/native.jpg\"%(x,y+int(h*0.7),w,int(h*0.3))+'\"');\n",
        "\n",
        "efile.write(\"];\")  \n",
        "efile.close() \n",
        "\n",
        "nfile.write(\"];\")  \n",
        "nfile.close() \n",
        "\n",
        "mfile.write(\"];\")  \n",
        "mfile.close() \n",
        "\n",
        "HTML('<a target=\"_blank\" href=\"generator/index.html\">Generator</a>')"
      ],
      "execution_count": 34,
      "outputs": [
        {
          "output_type": "execute_result",
          "data": {
            "text/html": [
              "<a target=\"_blank\" href=\"generator/index.html\">Generator</a>"
            ],
            "text/plain": [
              "<IPython.core.display.HTML object>"
            ]
          },
          "metadata": {
            "tags": []
          },
          "execution_count": 34
        }
      ]
    }
  ]
}
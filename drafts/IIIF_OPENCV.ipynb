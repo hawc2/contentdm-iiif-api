{
  "nbformat": 4,
  "nbformat_minor": 0,
  "metadata": {
    "colab": {
      "name": "IIIF OPENCV.ipynb",
      "provenance": [],
      "collapsed_sections": [],
      "include_colab_link": true
    },
    "kernelspec": {
      "display_name": "Python 3",
      "language": "python",
      "name": "python3"
    },
    "language_info": {
      "codemirror_mode": {
        "name": "ipython",
        "version": 3
      },
      "file_extension": ".py",
      "mimetype": "text/x-python",
      "name": "python",
      "nbconvert_exporter": "python",
      "pygments_lexer": "ipython3",
      "version": "3.6.3"
    },
    "widgets": {
      "application/vnd.jupyter.widget-state+json": {
        "cd5c4a5191464995b7b90fd5b869f224": {
          "model_module": "@jupyter-widgets/controls",
          "model_name": "IntProgressModel",
          "state": {
            "_view_name": "ProgressView",
            "style": "IPY_MODEL_e1f31e6988da44edb985356aa941449a",
            "_dom_classes": [],
            "description": "Progress:",
            "_model_name": "IntProgressModel",
            "bar_style": "",
            "max": 4,
            "_view_module": "@jupyter-widgets/controls",
            "_model_module_version": "1.5.0",
            "value": 3,
            "_view_count": null,
            "_view_module_version": "1.5.0",
            "orientation": "horizontal",
            "min": 0,
            "description_tooltip": null,
            "_model_module": "@jupyter-widgets/controls",
            "layout": "IPY_MODEL_c089ce0b051141f8b8fb5c736d474fbc"
          }
        },
        "e1f31e6988da44edb985356aa941449a": {
          "model_module": "@jupyter-widgets/controls",
          "model_name": "ProgressStyleModel",
          "state": {
            "_view_name": "StyleView",
            "_model_name": "ProgressStyleModel",
            "description_width": "",
            "_view_module": "@jupyter-widgets/base",
            "_model_module_version": "1.5.0",
            "_view_count": null,
            "_view_module_version": "1.2.0",
            "bar_color": null,
            "_model_module": "@jupyter-widgets/controls"
          }
        },
        "c089ce0b051141f8b8fb5c736d474fbc": {
          "model_module": "@jupyter-widgets/base",
          "model_name": "LayoutModel",
          "state": {
            "_view_name": "LayoutView",
            "grid_template_rows": null,
            "right": null,
            "justify_content": null,
            "_view_module": "@jupyter-widgets/base",
            "overflow": null,
            "_model_module_version": "1.2.0",
            "_view_count": null,
            "flex_flow": null,
            "width": null,
            "min_width": null,
            "border": null,
            "align_items": null,
            "bottom": null,
            "_model_module": "@jupyter-widgets/base",
            "top": null,
            "grid_column": null,
            "overflow_y": null,
            "overflow_x": null,
            "grid_auto_flow": null,
            "grid_area": null,
            "grid_template_columns": null,
            "flex": null,
            "_model_name": "LayoutModel",
            "justify_items": null,
            "grid_row": null,
            "max_height": null,
            "align_content": null,
            "visibility": null,
            "align_self": null,
            "height": null,
            "min_height": null,
            "padding": null,
            "grid_auto_rows": null,
            "grid_gap": null,
            "max_width": null,
            "order": null,
            "_view_module_version": "1.2.0",
            "grid_template_areas": null,
            "object_position": null,
            "object_fit": null,
            "grid_auto_columns": null,
            "margin": null,
            "display": null,
            "left": null
          }
        }
      }
    }
  },
  "cells": [
    {
      "cell_type": "markdown",
      "metadata": {
        "id": "view-in-github",
        "colab_type": "text"
      },
      "source": [
        "<a href=\"https://colab.research.google.com/github/hawc2/contentdm-iiif-api/blob/main/IIIF_OPENCV.ipynb\" target=\"_parent\"><img src=\"https://colab.research.google.com/assets/colab-badge.svg\" alt=\"Open In Colab\"/></a>"
      ]
    },
    {
      "cell_type": "markdown",
      "metadata": {
        "id": "7hQip3faA3Di"
      },
      "source": [
        "# IIIF OPEN CV\n",
        "\n"
      ]
    },
    {
      "cell_type": "markdown",
      "metadata": {
        "id": "i1aQPo4IBUOD"
      },
      "source": [
        "### Step 1: Import some libraries."
      ]
    },
    {
      "cell_type": "code",
      "metadata": {
        "id": "_5EoIvUsA3Dv"
      },
      "source": [
        "%matplotlib inline\n",
        "import numpy as np\n",
        "import urllib.request\n",
        "from matplotlib import pyplot as plt\n",
        "import cv2\n",
        "import json\n",
        "from IPython.display import Image, display\n",
        "from IPython.core.display import HTML \n",
        "import ipywidgets as widgets\n",
        "from random import randint"
      ],
      "execution_count": null,
      "outputs": []
    },
    {
      "cell_type": "code",
      "metadata": {
        "id": "OmFVF2d-4AWh"
      },
      "source": [
        ""
      ],
      "execution_count": null,
      "outputs": []
    },
    {
      "cell_type": "markdown",
      "metadata": {
        "id": "WuTJYS4vA3D2"
      },
      "source": [
        "### Step 2: Read IIIF Image API endpoints"
      ]
    },
    {
      "cell_type": "code",
      "metadata": {
        "id": "nWwG3a1zA3D5",
        "scrolled": true,
        "colab": {
          "base_uri": "https://localhost:8080/"
        },
        "outputId": "fc7952d3-57a8-452a-f88c-499337359644"
      },
      "source": [
        "url = \"https://cdm16002.contentdm.oclc.org/iiif/info/p16002coll4/4/manifest.json\"\n",
        "resp = urllib.request.urlopen(url)\n",
        "data = resp.read().decode(\"utf-8\")\n",
        "data = json.loads(data)\n",
        "pid = 0\n",
        "img_urls = {}\n",
        "for c in data['sequences'][0]['canvases']:\n",
        "    img_urls[pid]=c['images'][0]['resource']['service']['@id']\n",
        "    print (img_urls[pid])\n",
        "    pid = pid +1\n",
        "    \n",
        "print (\"Ready.\")"
      ],
      "execution_count": 84,
      "outputs": [
        {
          "output_type": "stream",
          "text": [
            "https://cdm16002.contentdm.oclc.org/digital/iiif/p16002coll4/0\n",
            "https://cdm16002.contentdm.oclc.org/digital/iiif/p16002coll4/1\n",
            "https://cdm16002.contentdm.oclc.org/digital/iiif/p16002coll4/2\n",
            "https://cdm16002.contentdm.oclc.org/digital/iiif/p16002coll4/3\n",
            "Ready.\n"
          ],
          "name": "stdout"
        }
      ]
    },
    {
      "cell_type": "code",
      "metadata": {
        "colab": {
          "base_uri": "https://localhost:8080/",
          "height": 170
        },
        "id": "DcGEWq_D3Ojx",
        "outputId": "324f1be6-a03c-4c50-bff8-66b07d4f20f4"
      },
      "source": [
        "df = pd.json_normalize(data)\n",
        "df"
      ],
      "execution_count": 88,
      "outputs": [
        {
          "output_type": "execute_result",
          "data": {
            "text/html": [
              "<div>\n",
              "<style scoped>\n",
              "    .dataframe tbody tr th:only-of-type {\n",
              "        vertical-align: middle;\n",
              "    }\n",
              "\n",
              "    .dataframe tbody tr th {\n",
              "        vertical-align: top;\n",
              "    }\n",
              "\n",
              "    .dataframe thead th {\n",
              "        text-align: right;\n",
              "    }\n",
              "</style>\n",
              "<table border=\"1\" class=\"dataframe\">\n",
              "  <thead>\n",
              "    <tr style=\"text-align: right;\">\n",
              "      <th></th>\n",
              "      <th>@context</th>\n",
              "      <th>@type</th>\n",
              "      <th>@id</th>\n",
              "      <th>label</th>\n",
              "      <th>metadata</th>\n",
              "      <th>attribution</th>\n",
              "      <th>within</th>\n",
              "      <th>sequences</th>\n",
              "      <th>structures</th>\n",
              "    </tr>\n",
              "  </thead>\n",
              "  <tbody>\n",
              "    <tr>\n",
              "      <th>0</th>\n",
              "      <td>http://iiif.io/api/presentation/2/context.json</td>\n",
              "      <td>sc:Manifest</td>\n",
              "      <td>https://cdm16002.contentdm.oclc.org/iiif/info/...</td>\n",
              "      <td>[Letter of 1866 April 30]</td>\n",
              "      <td>[{'label': 'Title', 'value': '[Letter of 1866 ...</td>\n",
              "      <td>[, This material is made available for private...</td>\n",
              "      <td>https://cdm16002.contentdm.oclc.org/iiif/info/...</td>\n",
              "      <td>[{'@id': 'https://cdm16002.contentdm.oclc.org/...</td>\n",
              "      <td>[{'@id': 'https://cdm16002.contentdm.oclc.org/...</td>\n",
              "    </tr>\n",
              "  </tbody>\n",
              "</table>\n",
              "</div>"
            ],
            "text/plain": [
              "                                         @context  ...                                         structures\n",
              "0  http://iiif.io/api/presentation/2/context.json  ...  [{'@id': 'https://cdm16002.contentdm.oclc.org/...\n",
              "\n",
              "[1 rows x 9 columns]"
            ]
          },
          "metadata": {
            "tags": []
          },
          "execution_count": 88
        }
      ]
    },
    {
      "cell_type": "markdown",
      "metadata": {
        "id": "SkT3rMOYA3D_"
      },
      "source": [
        "### Step 3: Generic progress bar."
      ]
    },
    {
      "cell_type": "code",
      "metadata": {
        "id": "Qpa0myebA3EH"
      },
      "source": [
        "progbar = widgets.IntProgress(\n",
        "    value=0,\n",
        "    min=0,\n",
        "    max=pid,\n",
        "    step=1,\n",
        "    description='Progress:',\n",
        "    bar_style='', # 'success', 'info', 'warning', 'danger' or ''\n",
        "    orientation='horizontal')"
      ],
      "execution_count": 85,
      "outputs": []
    },
    {
      "cell_type": "markdown",
      "metadata": {
        "id": "v_8QZQ5eA3EK"
      },
      "source": [
        "### Step 4: Define a function to read a binary image from the web."
      ]
    },
    {
      "cell_type": "code",
      "metadata": {
        "id": "T0nnz1zBA3EL"
      },
      "source": [
        "def url_to_image(url):\n",
        "    resp = urllib.request.urlopen(url)\n",
        "    image = np.asarray(bytearray(resp.read()), dtype=\"uint8\")\n",
        "    image = cv2.imdecode(image, cv2.IMREAD_COLOR)\n",
        "    image = cv2.cvtColor(image, cv2.COLOR_BGR2RGB)\n",
        "    return image"
      ],
      "execution_count": 89,
      "outputs": []
    },
    {
      "cell_type": "markdown",
      "metadata": {
        "id": "N0uAE7NDA3EN"
      },
      "source": [
        "### Step 5: Read all images with 4% of their actual size."
      ]
    },
    {
      "cell_type": "code",
      "metadata": {
        "id": "czQMDdq9A3EP"
      },
      "source": [
        "display(progbar)\n",
        "\n",
        "img_smalls = {}\n",
        "for pid in img_urls:\n",
        "    progbar.value = pid\n",
        "    turl = img_urls[pid]+\"/full/pct:15/0/default.jpg\"\n",
        "    img_smalls[pid] = url_to_image(turl)\n",
        "    display(Image(url=turl, width=400, height=400))\n",
        "    if pid == 1000:\n",
        "        break"
      ],
      "execution_count": null,
      "outputs": []
    },
    {
      "cell_type": "markdown",
      "metadata": {
        "id": "QGff5M85A3EV"
      },
      "source": [
        "### Step 6: Get us a function to detect faces using the opencv lib."
      ]
    },
    {
      "cell_type": "code",
      "metadata": {
        "id": "Le82FusGA3Ee"
      },
      "source": [
        "def analyze_images(image):\n",
        "    faceCascade = cv2.CascadeClassifier(\"haarcascades/haarcascade_frontalface_alt.xml\")\n",
        "    faces = faceCascade.detectMultiScale(\n",
        "        image,\n",
        "        scaleFactor=1.1,\n",
        "        minNeighbors=3,\n",
        "        minSize=(20, 20),\n",
        "        flags = cv2.CASCADE_SCALE_IMAGE\n",
        "    )\n",
        "    return faces"
      ],
      "execution_count": 92,
      "outputs": []
    },
    {
      "cell_type": "markdown",
      "metadata": {
        "id": "uHtJRQOxA3Ee"
      },
      "source": [
        "### Step 7: Find all faces in the images.\n",
        "Save all coodinates multiplied by 25 as we retrieved the images scaled to 4%."
      ]
    },
    {
      "cell_type": "code",
      "metadata": {
        "id": "F1jI1tKzA3Eg",
        "colab": {
          "base_uri": "https://localhost:8080/",
          "height": 66,
          "referenced_widgets": [
            "cd5c4a5191464995b7b90fd5b869f224",
            "e1f31e6988da44edb985356aa941449a",
            "c089ce0b051141f8b8fb5c736d474fbc"
          ]
        },
        "outputId": "07a4734c-ef35-4058-ae8f-a59f6a5bb763"
      },
      "source": [
        "display(progbar)\n",
        "\n",
        "faces_xy = {}\n",
        "fid = 0\n",
        "for pid in img_smalls:\n",
        "    progbar.value=pid\n",
        "    faces = analyze_images(img_smalls[pid])\n",
        "    for (x, y, w, h) in faces:\n",
        "        faces_xy[fid] = {}\n",
        "        faces_xy[fid]['pid'] = pid\n",
        "        faces_xy[fid]['x'] = x*25\n",
        "        faces_xy[fid]['y'] = y*25\n",
        "        faces_xy[fid]['w'] = w*25\n",
        "        faces_xy[fid]['h'] = h*25\n",
        "        fid = fid +1\n",
        "        \n",
        "print (\"Found {0} faces!\".format(len(faces_xy)))"
      ],
      "execution_count": 93,
      "outputs": [
        {
          "output_type": "display_data",
          "data": {
            "application/vnd.jupyter.widget-view+json": {
              "model_id": "cd5c4a5191464995b7b90fd5b869f224",
              "version_minor": 0,
              "version_major": 2
            },
            "text/plain": [
              "IntProgress(value=3, description='Progress:', max=4)"
            ]
          },
          "metadata": {
            "tags": []
          }
        },
        {
          "output_type": "stream",
          "text": [
            "Found 3 faces!\n"
          ],
          "name": "stdout"
        }
      ]
    },
    {
      "cell_type": "markdown",
      "metadata": {
        "id": "q1heD3ytA3Eh"
      },
      "source": [
        "### Step 8: Generate URLs to the facial regions for each recognized face."
      ]
    },
    {
      "cell_type": "code",
      "metadata": {
        "id": "NfUaWyxzA3Eh",
        "scrolled": true
      },
      "source": [
        "for fid in faces_xy:\n",
        "    pid = faces_xy[fid]['pid']\n",
        "    x = faces_xy[fid]['x']\n",
        "    y = faces_xy[fid]['y']\n",
        "    w = faces_xy[fid]['w']\n",
        "    h = faces_xy[fid]['h']\n",
        "    url = img_urls[pid]+\"/%d,%d,%d,%d/300,/0/native.jpg\"%(x,y,w,h)\n",
        "    faces_xy[fid]['quick_url'] = url"
      ],
      "execution_count": 94,
      "outputs": []
    },
    {
      "cell_type": "markdown",
      "metadata": {
        "id": "NbXIILGnA3Ei"
      },
      "source": [
        "### Step 9: Display what we have done so far."
      ]
    },
    {
      "cell_type": "code",
      "metadata": {
        "id": "ydouDYkEA3Ej",
        "colab": {
          "base_uri": "https://localhost:8080/",
          "height": 156
        },
        "outputId": "bcda9d8f-3cf4-47d8-fe2f-fbda6bc94e68"
      },
      "source": [
        "for fid in faces_xy:\n",
        "    print(faces_xy[fid]['quick_url'])\n",
        "    display(Image(url=faces_xy[fid]['quick_url']))\n",
        "    "
      ],
      "execution_count": 95,
      "outputs": [
        {
          "output_type": "stream",
          "text": [
            "https://cdm16002.contentdm.oclc.org/digital/iiif/p16002coll4/1/7250,6875,1775,1775/300,/0/native.jpg\n"
          ],
          "name": "stdout"
        },
        {
          "output_type": "display_data",
          "data": {
            "text/html": [
              "<img src=\"https://cdm16002.contentdm.oclc.org/digital/iiif/p16002coll4/1/7250,6875,1775,1775/300,/0/native.jpg\"/>"
            ],
            "text/plain": [
              "<IPython.core.display.Image object>"
            ]
          },
          "metadata": {
            "tags": []
          }
        },
        {
          "output_type": "stream",
          "text": [
            "https://cdm16002.contentdm.oclc.org/digital/iiif/p16002coll4/2/3525,17375,1225,1225/300,/0/native.jpg\n"
          ],
          "name": "stdout"
        },
        {
          "output_type": "display_data",
          "data": {
            "text/html": [
              "<img src=\"https://cdm16002.contentdm.oclc.org/digital/iiif/p16002coll4/2/3525,17375,1225,1225/300,/0/native.jpg\"/>"
            ],
            "text/plain": [
              "<IPython.core.display.Image object>"
            ]
          },
          "metadata": {
            "tags": []
          }
        },
        {
          "output_type": "stream",
          "text": [
            "https://cdm16002.contentdm.oclc.org/digital/iiif/p16002coll4/3/4600,325,1175,1175/300,/0/native.jpg\n"
          ],
          "name": "stdout"
        },
        {
          "output_type": "display_data",
          "data": {
            "text/html": [
              "<img src=\"https://cdm16002.contentdm.oclc.org/digital/iiif/p16002coll4/3/4600,325,1175,1175/300,/0/native.jpg\"/>"
            ],
            "text/plain": [
              "<IPython.core.display.Image object>"
            ]
          },
          "metadata": {
            "tags": []
          }
        }
      ]
    },
    {
      "cell_type": "markdown",
      "metadata": {
        "id": "Sx1LSnKqA3Ej"
      },
      "source": [
        "### Use Case 1: A IIIF Memory Game\n",
        "\n",
        "Write all face URLs to a Javascript file in order to feed them into a Memory game. This game actually uses IIIF Image API endpoints. "
      ]
    },
    {
      "cell_type": "code",
      "metadata": {
        "id": "mQQsA1alA3Ek",
        "colab": {
          "base_uri": "https://localhost:8080/",
          "height": 34
        },
        "outputId": "c0bb14e3-05c8-4993-9313-a961124431b8"
      },
      "source": [
        "file = open(\"game/urls.js\",\"w\") \n",
        "file.write(\"var urls=[\") \n",
        "for fid in faces_xy:\n",
        "    if fid > 0:\n",
        "        file.write(\",\")\n",
        "    file.write('\"'+faces_xy[fid]['quick_url']+'\"')\n",
        "file.write(\"];\")  \n",
        "file.close() \n",
        "\n",
        "HTML('<a target=\"_blank\" href=\"game/game.html\">Game</a>')"
      ],
      "execution_count": 96,
      "outputs": [
        {
          "output_type": "execute_result",
          "data": {
            "text/html": [
              "<a target=\"_blank\" href=\"game/game.html\">Game</a>"
            ],
            "text/plain": [
              "<IPython.core.display.HTML object>"
            ]
          },
          "metadata": {
            "tags": []
          },
          "execution_count": 96
        }
      ]
    },
    {
      "cell_type": "markdown",
      "metadata": {
        "id": "-RHLnp8KA3Em"
      },
      "source": [
        "### Use Case 2: Random Avatar Generator.\n",
        "\n",
        "Choose randomly the upper 50% of a face, the middle 20% of another face and the lower 30% of a third face and combine it to a random patchwork portrait. Click on the image parts to flip the image horizontally."
      ]
    },
    {
      "cell_type": "code",
      "metadata": {
        "id": "JD_Av1-xA3Eo",
        "scrolled": true,
        "colab": {
          "base_uri": "https://localhost:8080/",
          "height": 34
        },
        "outputId": "d3af1f52-fdc3-4da8-a01f-b35d6d63b42e"
      },
      "source": [
        "efile = open(\"generator/eurls.js\",\"w\") \n",
        "efile.write(\"var eurls=[\") \n",
        "\n",
        "nfile = open(\"generator/nurls.js\",\"w\") \n",
        "nfile.write(\"var nurls=[\") \n",
        "\n",
        "mfile = open(\"generator/murls.js\",\"w\") \n",
        "mfile.write(\"var murls=[\") \n",
        "\n",
        "for fid in faces_xy:\n",
        "    if fid > 0:\n",
        "        efile.write(\",\")\n",
        "        nfile.write(\",\")\n",
        "        mfile.write(\",\")\n",
        "    u = img_urls[faces_xy[fid]['pid']]\n",
        "    x = faces_xy[fid]['x']\n",
        "    y = faces_xy[fid]['y']\n",
        "    w = faces_xy[fid]['w']\n",
        "    h = faces_xy[fid]['h']\n",
        "    efile.write('\"'+u+\"/%d,%d,%d,%d/300,/0/native.jpg\"%(x,y,w,int(h*0.5))+'\"');\n",
        "    nfile.write('\"'+u+\"/%d,%d,%d,%d/300,/0/native.jpg\"%(x,y+int(h*0.5),w,int(h*0.2))+'\"');\n",
        "    mfile.write('\"'+u+\"/%d,%d,%d,%d/300,/0/native.jpg\"%(x,y+int(h*0.7),w,int(h*0.3))+'\"');\n",
        "\n",
        "efile.write(\"];\")  \n",
        "efile.close() \n",
        "\n",
        "nfile.write(\"];\")  \n",
        "nfile.close() \n",
        "\n",
        "mfile.write(\"];\")  \n",
        "mfile.close() \n",
        "\n",
        "HTML('<a target=\"_blank\" href=\"generator/index.html\">Generator</a>')"
      ],
      "execution_count": 97,
      "outputs": [
        {
          "output_type": "execute_result",
          "data": {
            "text/html": [
              "<a target=\"_blank\" href=\"generator/index.html\">Generator</a>"
            ],
            "text/plain": [
              "<IPython.core.display.HTML object>"
            ]
          },
          "metadata": {
            "tags": []
          },
          "execution_count": 97
        }
      ]
    },
    {
      "cell_type": "code",
      "metadata": {
        "id": "yCFXyLCPA3Ep"
      },
      "source": [
        ""
      ],
      "execution_count": null,
      "outputs": []
    },
    {
      "cell_type": "code",
      "metadata": {
        "id": "i7VAX3YRA3Ep"
      },
      "source": [
        ""
      ],
      "execution_count": null,
      "outputs": []
    }
  ]
}

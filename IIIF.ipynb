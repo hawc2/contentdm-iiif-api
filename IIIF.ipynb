{
  "nbformat": 4,
  "nbformat_minor": 0,
  "metadata": {
    "colab": {
      "name": "IIIF.ipynb",
      "provenance": [],
      "collapsed_sections": [],
      "toc_visible": true,
      "include_colab_link": true
    },
    "kernelspec": {
      "name": "python3",
      "display_name": "Python 3"
    },
    "accelerator": "TPU"
  },
  "cells": [
    {
      "cell_type": "markdown",
      "metadata": {
        "id": "view-in-github",
        "colab_type": "text"
      },
      "source": [
        "<a href=\"https://colab.research.google.com/github/hawc2/contentdm-iiif-api/blob/main/IIIF.ipynb\" target=\"_parent\"><img src=\"https://colab.research.google.com/assets/colab-badge.svg\" alt=\"Open In Colab\"/></a>"
      ]
    },
    {
      "cell_type": "markdown",
      "metadata": {
        "id": "72HCVOsd19cO"
      },
      "source": [
        "# Goal\n",
        "\n",
        "First goal: Download the images with metadata from ContentDM or OAI-PMH\n",
        "\n",
        "Second goal: Feed images into the facial recognition pipeline\n",
        "\n",
        "# Source \n",
        "\n",
        "This is adapting this Smithsonian notebook https://github.com/hibernator11/notebook-iiif-images\n",
        "\n",
        "\n",
        "# Questions\n",
        "\n",
        "How to connect IIIF API with other ContentDM or OAI-PMH endpoints?\n",
        "\n",
        "https://iiif.io/api/cookbook/\n",
        "\n",
        "# Issues\n",
        "\n",
        "find \"thumbnails\" in ContentDM IIIF API. \n",
        "\n",
        "# To Do\n",
        "\n",
        "Create variable for user to set which iiif collection to download"
      ]
    },
    {
      "cell_type": "markdown",
      "metadata": {
        "id": "-4aMUQelUoea"
      },
      "source": [
        "# API Calls\n",
        "\n",
        "\n",
        "/https://digital.library.temple.edu/iiif/{collectionID}/{objectID}/info.json\n",
        "\n",
        "https://digital.library.temple.edu/iiif/info/p16002coll4/manifest.json\n",
        "\n",
        " /iiif/{collectionID}/{objectID}/{region}/{size}/{rotation}/{quality}.{format}\n",
        "\n",
        "# Temple API Info\n",
        "\n",
        "Manifest: https://digital.library.temple.edu/iiif/info/p16002coll4/manifest.json\n",
        "\n",
        "Using this digital collection item: https://digital.library.temple.edu/digital/collection/p16002coll9/id/2923/rec/1\n",
        "\n",
        "Temple's Image API example: \n",
        "https://digital.library.temple.edu/digital/iiif/p16002coll9/2923/full/pct:15/0/default.jpg\n",
        "\n",
        "Relevant endpoint: https://digital.library.temple.edu/oai/oai.php\n",
        "\n",
        "\n",
        "\n",
        "## ContentDM API Test:\n",
        "\n",
        "https://platform.worldcat.org/api-explorer/apis/CONTENTdmIIIFImageAPI/Image/GetInformation\n",
        "\n",
        "https://platform.worldcat.org/api-explorer/apis/CONTENTdmIIIFImageAPI/Image/GetImage\n"
      ]
    },
    {
      "cell_type": "markdown",
      "metadata": {
        "id": "l9YxYHRgDF4Y"
      },
      "source": [
        "# Install Packages\n"
      ]
    },
    {
      "cell_type": "code",
      "metadata": {
        "id": "uqLxDOQddzT4"
      },
      "source": [
        "import requests, csv\n",
        "import json\n",
        "import pandas as pd\n",
        "import cv2\n",
        "import os\n",
        "import urllib.request\n",
        "import urllib3\n",
        "from urllib3 import request\n",
        "import matplotlib.pyplot as plt\n",
        "from matplotlib import pyplot as plt\n",
        "from random import randint\n",
        "import ipywidgets as widgets\n",
        "from IPython.display import Image, display\n",
        "from IPython.core.display import HTML \n",
        "from PIL import Image, ImageDraw, ImageFont, ImageOps\n",
        "from io import BytesIO\n",
        "import certifi"
      ],
      "execution_count": 1,
      "outputs": []
    },
    {
      "cell_type": "markdown",
      "metadata": {
        "id": "YsmBXprSx62z"
      },
      "source": [
        "# Query ContentDM"
      ]
    },
    {
      "cell_type": "markdown",
      "metadata": {
        "id": "MEtMz9xTTNpI"
      },
      "source": [
        "## Query a Collection\n",
        "\n",
        "The manifestURL variable determines what collection, such as WWII Posters, are queried. "
      ]
    },
    {
      "cell_type": "code",
      "metadata": {
        "id": "DkLX25IeTO9j"
      },
      "source": [
        "#manifestUrl = 'https://cdm16002.contentdm.oclc.org/iiif/info/manifest.json'\n",
        "manifestUrl = 'https://cdm16002.contentdm.oclc.org/iiif/info/p16002coll9/p1.json'"
      ],
      "execution_count": 2,
      "outputs": []
    },
    {
      "cell_type": "code",
      "metadata": {
        "colab": {
          "base_uri": "https://localhost:8080/"
        },
        "id": "2_MkylQSTUds",
        "outputId": "5456f135-91a9-46f8-b3e0-6dec626de975"
      },
      "source": [
        "responseManifest = requests.get(manifestUrl)\n",
        "print(responseManifest.url)\n",
        "\n",
        "# retrieving the metadata\n",
        "m = json.loads(responseManifest.text)\n",
        "\n",
        "#for i in m['manifests']:\n",
        "#    print(i['@id'])\n",
        "\n",
        "#print(m)"
      ],
      "execution_count": 3,
      "outputs": [
        {
          "output_type": "stream",
          "name": "stdout",
          "text": [
            "https://cdm16002.contentdm.oclc.org/iiif/info/p16002coll9/p1.json\n"
          ]
        }
      ]
    },
    {
      "cell_type": "code",
      "metadata": {
        "colab": {
          "base_uri": "https://localhost:8080/"
        },
        "id": "CW15uddOTcyz",
        "outputId": "a30a9e31-a6b7-4c61-8e83-acc761c0d6bc"
      },
      "source": [
        "# Save Metadata as CSV\n",
        "\n",
        "csv_out = csv.writer(open('tul.csv', 'w'), delimiter = ',', quotechar = '\"', quoting = csv.QUOTE_MINIMAL)\n",
        "csv_out.writerow(['Title', 'Date', 'Contributor', 'Description', 'Subject'])"
      ],
      "execution_count": 4,
      "outputs": [
        {
          "output_type": "execute_result",
          "data": {
            "text/plain": [
              "44"
            ]
          },
          "metadata": {},
          "execution_count": 4
        }
      ]
    },
    {
      "cell_type": "code",
      "metadata": {
        "id": "WYsZWZr2TZq5"
      },
      "source": [
        "for i in m['manifests']:\n",
        "    title = date = contributor = description = subject = ''\n",
        "    \n",
        "    manifestItemUrl = i['@id']\n",
        "    responseManifestItem = requests.get(manifestItemUrl)\n",
        "    manifestItem = json.loads(responseManifestItem.text)\n",
        "\n",
        "    title = manifestItem['metadata'][0]['value']\n",
        "    date = manifestItem['metadata'][1]['value']\n",
        "    contributor = manifestItem['metadata'][2]['value']\n",
        "    description = manifestItem['metadata'][3]['value']\n",
        "    subject = manifestItem['metadata'][4]['value']\n",
        "    #attribution = manifestItem['attribution']\n",
        "\n",
        "    #print(title + \" \" + date)\n",
        "    csv_out.writerow([title, date, contributor, description, subject])    "
      ],
      "execution_count": 5,
      "outputs": []
    },
    {
      "cell_type": "code",
      "metadata": {
        "colab": {
          "base_uri": "https://localhost:8080/",
          "height": 34
        },
        "id": "xr2OfPnFIzGv",
        "outputId": "f547beb3-2191-4b34-8461-015c43fe13df"
      },
      "source": [
        "from google.colab import files\n",
        "\n",
        "files.download('tul.csv')"
      ],
      "execution_count": 6,
      "outputs": [
        {
          "output_type": "display_data",
          "data": {
            "application/javascript": [
              "\n",
              "    async function download(id, filename, size) {\n",
              "      if (!google.colab.kernel.accessAllowed) {\n",
              "        return;\n",
              "      }\n",
              "      const div = document.createElement('div');\n",
              "      const label = document.createElement('label');\n",
              "      label.textContent = `Downloading \"${filename}\": `;\n",
              "      div.appendChild(label);\n",
              "      const progress = document.createElement('progress');\n",
              "      progress.max = size;\n",
              "      div.appendChild(progress);\n",
              "      document.body.appendChild(div);\n",
              "\n",
              "      const buffers = [];\n",
              "      let downloaded = 0;\n",
              "\n",
              "      const channel = await google.colab.kernel.comms.open(id);\n",
              "      // Send a message to notify the kernel that we're ready.\n",
              "      channel.send({})\n",
              "\n",
              "      for await (const message of channel.messages) {\n",
              "        // Send a message to notify the kernel that we're ready.\n",
              "        channel.send({})\n",
              "        if (message.buffers) {\n",
              "          for (const buffer of message.buffers) {\n",
              "            buffers.push(buffer);\n",
              "            downloaded += buffer.byteLength;\n",
              "            progress.value = downloaded;\n",
              "          }\n",
              "        }\n",
              "      }\n",
              "      const blob = new Blob(buffers, {type: 'application/binary'});\n",
              "      const a = document.createElement('a');\n",
              "      a.href = window.URL.createObjectURL(blob);\n",
              "      a.download = filename;\n",
              "      div.appendChild(a);\n",
              "      a.click();\n",
              "      div.remove();\n",
              "    }\n",
              "  "
            ],
            "text/plain": [
              "<IPython.core.display.Javascript object>"
            ]
          },
          "metadata": {}
        },
        {
          "output_type": "display_data",
          "data": {
            "application/javascript": [
              "download(\"download_0f5a187f-3e90-4f83-ba45-97d916d105f7\", \"tul.csv\", 387929)"
            ],
            "text/plain": [
              "<IPython.core.display.Javascript object>"
            ]
          },
          "metadata": {}
        }
      ]
    },
    {
      "cell_type": "code",
      "metadata": {
        "id": "fF2q17ZT-_WC",
        "colab": {
          "base_uri": "https://localhost:8080/",
          "height": 1000
        },
        "outputId": "7c4c6ce6-f74a-4249-9f0c-b36f44339199"
      },
      "source": [
        "df = pd.read_csv('tul.csv')\n"
      ],
      "execution_count": 9,
      "outputs": [
        {
          "output_type": "stream",
          "name": "stdout",
          "text": [
            "\"Ammunition!\"\n",
            "\"Come on boys!\" : give the Guard a fighting chance\n",
            "\"Debout! Nos morts pour la patrie...\"\n",
            "\"Fall in\"\n",
            "\"Food from your back yard\" : cultural directions\n",
            "\"Good bye, dad : I'm off to fight for Old Glory, you buy U.S. Gov't bonds\"\n",
            "\"Help the horse to save the soldier\"\n",
            "\"Hey fellows!\"\n",
            "\"If ye break faith - we shall not sleep\"\n",
            "\"Nous les aurons\"\n",
            "\"Over the top\" : make this a Red Cross Christmas\n",
            "\"Saving Daylight!\"\n",
            "\"Saving Daylight\"\n",
            "\"Saving daylight\"\n",
            "\"Send more men\"\n",
            "\"Shall we be more tender with our dollars than with the lives of our sons\"\n",
            "\"Shall we be more tender with our dollars than with the lives of our sons?\"\n",
            "\"Shall we be more tender with our dollars then with the lives of our sons\"\n",
            "\"Spirit of 1917\" : join the U.S. Marines\n",
            "\"Taking an inventory\" of his wealth\n",
            "\"The child at your door.\"\n",
            "\"The first three!\"\n",
            "\"The time has come to conquer or submit.\"-\n",
            "\"They shall not perish\"\n",
            "\"Wake up America!\"\n",
            "\"Where do I come in?\"\n",
            "&quot;England expects,&quot; 1805-1915\n",
            "&quot;I summon you to comradeship in the Red Cross&quot;\n",
            "10,000,000 members by Christmas\n",
            "14 Juillet 1916 : Journée De Paris\n",
            "1918 Home garden series : &quot;Food from your backyard&quot;\n",
            "1919 War Chest\n",
            "2 Fléaux Le Boche La Tuberculose\n",
            "20 at home to 1 in the trenches\n",
            "20,000 Alsaciens-Lorrains, engagés volontaires\n",
            "2285 New Yorkers\n",
            "25 Juin 1916 : Journée Serbe\n",
            "2me emprunt de la défense nationale\n",
            "3e Emprunt De La Défense National\n",
            "3e Emprunt de la Défense Nationale\n",
            "3e emprunt de la défense nationale\n",
            "3rd French War Loan\n",
            "4 Femmes\n",
            "4 questions to men who have not enlisted\n",
            "4.e Emprunt de la Défense Nationale\n",
            "4e Emprunt de la Défense National\n",
            "4e Emprunt de la Défense Nationale\n",
            "62,000 laws\n",
            "7 in 1\n",
            "A British Training Camp\n",
            "A La Mémoire des Soldats Belges Morts pour La Patrie\n",
            "A call to arms\n",
            "A country worth fighting for\n",
            "A destroyer a day\n",
            "A good part of the proceeds of this farm have gone into Liberty bonds\n",
            "A little starving child brought back to life\n",
            "A living wage for fathers means a living chance for babies\n",
            "A reminder\n",
            "A shot at American industry is a shot at American Democracy\n",
            "A stamp for every star\n",
            "A wonderful opportunity for you : United States Navy\n",
            "After the welcome home - a job!\n",
            "Agitation which delays our war industries is \"made in Germany\"\n",
            "Ah! Quand supprimera-t-on L'Alcool?\n",
            "Ah! si l'on avait supprimé\n",
            "Aide-toi, le ciel t'aidera.\n",
            "All about Liberty bonds\n",
            "All about W.S.S.\n",
            "All food supplies are carried to the men\n",
            "All for one and one for all! : vive la France\n",
            "All together\n",
            "Alone at last\n",
            "America's call to arms\n",
            "America's food pledge : 20 million tons\n",
            "America's success in war and industry\n",
            "America's tribute to Britain\n",
            "American Field Service\n",
            "American Industry\n",
            "American Red Star Animal Relief\n",
            "American horses and mules are fighting your fight\n",
            "Americans all!\n",
            "And they thought we couldn't fight\n",
            "Another call\n",
            "Answer the Red Cross Christmas roll call\n",
            "Appel du Ministre de L'Instruction Publique\n",
            "Are you 100% American?\n",
            "Are you in this?\n",
            "Are you one of those?\n",
            "Are you trained to defend your country? : Plattsburg\n",
            "Are you trained to do your share?\n",
            "Are you working with Schwab?\n",
            "Army, artillery, cavalry, engineers, hospital corps\n",
            "At Neuve Chapelle\n",
            "At The Front!\n",
            "Attaque a la Baionnette Metzeral - Juin-1915\n",
            "Attendez un instant\n",
            "Au nom du peuple\n",
            "Avec la carte\n",
            "Avez vous place dans votre coeur pour nous?\n",
            "Baby Liberty bonds\n",
            "Back our girls over there : Y.W.C.A.\n",
            "Balance the scales!\n",
            "Banque Française pour le commerce et l'industrie\n",
            "Banque Industrielle de Chine\n",
            "Banque de l'Union Parisienne\n",
            "Batterie de \"75\" Devant Soissons\n",
            "Bazar de L'Hôtel de Ville\n",
            "Be Honest With Yourself\n",
            "Be a U.S. Marine\n",
            "Be patriotic\n",
            "Beat back the Hun with liberty bonds\n",
            "Before sunset : buy a U.S. government bond\n",
            "Belgian & allies aid league\n",
            "Belgian Canal Boat Fund\n",
            "Belgian Red Cross Fund\n",
            "Beware of female spies\n",
            "Beware of spies\n",
            "Blinded\n",
            "Blood or bread\n",
            "Blue Cross Fund : war!\n",
            "Books wanted for our men in camp and \"over there\"\n",
            "Boost your job!\n",
            "Boys and girls!\n",
            "Boys and girls! : you can help your Uncle Sam win the war\n",
            "Britain's Day\n",
            "Britain's strong arm and yours will carry us through\n",
            "Britishers : enlist to-day\n",
            "Britons! : your country needs you\n",
            "Buy Liberty bonds\n",
            "Buy Liberty bonds today\n",
            "Buy United States government war savings stamps\n",
            "Buy a Liberty bond of the U.S. government\n",
            "Buy early\n",
            "Buy thrift stamps and W.S.S. War Savings Stamps\n",
            "By the president of the United States of America : a proclamation\n",
            "By using one of Walker's silk sewn diaries\n",
            "Can I Afford to pay for freedom\n",
            "Can you drive a car?\n",
            "Cardinal Mercier\n",
            "Carefulness is braver than carelessness!\n",
            "Carte symbolique -; Guerre de 1914-1915\n",
            "Chasing the rainbow\n",
            "Church Army Flag Day, June 4th\n",
            "Church army open to all\n",
            "Civilians when we go through this we need all the help and comfort you can give\n",
            "Classe 1920\n",
            "Clear the way!! : buy bonds\n",
            "Columbia calls : enlist now for U.S. Army\n",
            "Combattez La Tuberculose\n",
            "Come along, boys!\n",
            "Come and do your bit : join now\n",
            "Come into the ranks\n",
            "Come on !\n",
            "Comité Américain pour les régions dévastée de France\n",
            "Comité National de L'Education Physique et Sportive et de l'Hygiène Sociale\n",
            "Comité d'assistance en Alsace-Lorraine\n",
            "Comité de L'Or\n",
            "Comment ils écrivent l'histoire\n",
            "Compagnie Alcerienne\n",
            "Compagnie Des Notaires De Paris\n",
            "Compagnie des notaires de Paris\n",
            "Comptoir National d'Escompte de Paris\n",
            "Concert et Exposition\n",
            "Constructive public opinion\n",
            "Count the victory buttons\n",
            "Courage, comrades, I'm coming\n",
            "Credit Commercial de France\n",
            "Crédit Lyonnais\n",
            "Criticism is often due to misunderstanding\n",
            "Croix-Rouge Française\n",
            "Crush the Prussian\n",
            "Cultivons notre potager\n",
            "Dans Le Petit Journal lire Le Sang de La France\n",
            "Dans le monde entier l'organe de défense\n",
            "Debout dans la tranchée\n",
            "December 16th to 23d : Red Cross Christmas roll call\n",
            "Dedicated to the Boy Scouts of America.\n",
            "Defeat the KAISER and his U-BOATS\n",
            "Defense or disaster?\n",
            "Demain il y aura du tabac\n",
            "Destination Berlin\n",
            "Défense Nationale Emprunt\n",
            "Did you do anything to beat Germany\n",
            "Distinguished service cross\n",
            "Do this for our brothers in the trenches\n",
            "Do you consider this fort safe?\n",
            "Do your bit : save-food\n",
            "Do your bit for the faithful war horse\n",
            "Do your bit help win the war grow a garden\n",
            "Do your bit! : save food\n",
            "Do your duty to our boys as they are doing theirs to you\n",
            "Don't blame it all on the war!\n",
            "Don't jump at conclusions\n",
            "Don't let up :  keep on saving food\n",
            "Don't pity a disabled man\n",
            "Don't stop saving food\n",
            "Don't think that because you work at your desk\n",
            "Don't waste food while others starve!\n",
            "Dr. Uncle Sam-\n",
            "Du 1er au 15 Mai 1917\n",
            "E-E-E-yah-yip\n",
            "Each recruit brings peace nearer\n",
            "Eat cane syrup & molasses\n",
            "Eat less\n",
            "Eat more corn, oats and rye products [picture]\n",
            "Ecole Des Beaux-Arts\n",
            "Economisons le pain\n",
            "Economisons le pétrole l'essence\n",
            "Economy saves lives\n",
            "El Cardenal Mercier\n",
            "Employees of Gossler Bros.,Inc. : Notice!\n",
            "Emprunt 4% 1918\n",
            "Emprunt De La Défense Nationale\n",
            "Emprunt Français\n",
            "Emprunt National 1917\n",
            "Emprunt National 1918\n",
            "Emprunt de la Defense National\n",
            "Emprunt de la Défense Nationale\n",
            "Emprunt de la Libération\n",
            "Emprunt de la libération\n",
            "Emprunt national on souscrit sans frais a grenoble-voiron- rives\n",
            "En Alsace Libérée\n",
            "Enlist\n",
            "Enlist in the Navy\n",
            "Enlist to-day\n",
            "Enthusiastic crowds greet Schwab\n",
            "Every business has three partners\n",
            "Every girl pulling for victory\n",
            "Every stamp helps to save a life\n",
            "Everyone should do his bit\n",
            "Exhibition of war relics and cartoons\n",
            "Exposition D'Art Marocain\n",
            "Exposition Franco-Polonaise d'art et de souvenir\n",
            "Exposition d'art décoratif\n",
            "Exposition des dons Américains\n",
            "Exposition-vente de tableaux\n",
            "Faith in Canada\n",
            "Feed a fighter\n",
            "Fight for King & Empire\n",
            "Fight or buy bonds\n",
            "Fight or buy bonds : third liberty loan\n",
            "Fight or pay that others may fight\n",
            "Film de L'Emprunt\n",
            "Finalmente!!\n",
            "Finish the job\n",
            "First to fight\n",
            "Follow me! : your country needs you\n",
            "Follow the flag\n",
            "Food : don't waste it\n",
            "Food and the war!\n",
            "Food economy National safety\n",
            "Food is ammunition- Don't waste it\n",
            "Food will win the war\n",
            "For United America\n",
            "For action on sea and land : join the Marines\n",
            "For active service join the U.S. Marines\n",
            "For every fighter a woman worker\n",
            "For home and country\n",
            "For our aviators\n",
            "For victory\n",
            "For your boy\n",
            "For your children : buy war savings certificates\n",
            "France toujours! France quand même!\n",
            "France's Day\n",
            "France's Day : French Red Cross\n",
            "Français pour la libération du territoire\n",
            "Français souscrivez\n",
            "Français, économisez le gaz\n",
            "Free storage of Liberty bonds\n",
            "French Comrade your children shall be as our children\n",
            "Fumeurs de l'arrière : économisez le tabac\n",
            "Galerie Brunner\n",
            "Gee!! I wish I were a man\n",
            "German slavery or Liberty bonds\n",
            "Germany watches!\n",
            "Germany, the super-anarchist\n",
            "Get behind the girl he left behind him\n",
            "Get busy and help\n",
            "Get together rally and Liberty loan meeting\n",
            "Give her the key to lock him up\n",
            "Give or we perish\n",
            "Give us something to melt!\n",
            "Give your share\n",
            "Go over the top with U.S. Marines\n",
            "Go over the top with the tank that will win the war!\n",
            "Going -- going -- gone!\n",
            "Good business law teaches\n",
            "Good-bye-ee!\n",
            "Grafton Galleries : Australia in the war\n",
            "Grand Festival des allies\n",
            "Grand Film National\n",
            "Grande Kermesse des fleurs\n",
            "Grande Salle du Trocadéro\n",
            "Grande Souscription Patriotique\n",
            "Grande journee cinematographique\n",
            "Grande tombola\n",
            "Grandes eaux et concert militaire\n",
            "Group system\n",
            "Group system removals\n",
            "Halt the Hun\n",
            "Halt the epidemic!\n",
            "Halt!\n",
            "Halt! : who goes there?\n",
            "Harmless!\n",
            "Has your community an infant welfare station\n",
            "Hatch early\n",
            "Have you a Red Cross service flag?\n",
            "Have you answered the Red Cross Christmas call?\n",
            "He did his duty\n",
            "He is getting our country's signal : are you?\n",
            "Headquarters food conservation\n",
            "Help fill the war chest\n",
            "Help him to help U.S.!\n",
            "Help him win by saving and serving\n",
            "Help our town win the right to fly this flag\n",
            "Help stop this\n",
            "Help the Red Cross\n",
            "Help the wings of the U.S.\n",
            "Help them : keep your war savings pledge\n",
            "Help them to carry on : Y.W.C.A.\n",
            "Help to end the war\n",
            "Help your American Red Cross\n",
            "Help! : the woman's land army of America\n",
            "Here's your chance\n",
            "Heroic women of France, toiling to produce food\n",
            "Hit the bull's eye!\n",
            "Hold up your end\n",
            "Hold up your end!\n",
            "Home hospitality\n",
            "Honor roll\n",
            "Hoot Mon the kilties are here!\n",
            "Horses transport all munitions\n",
            "Household 100% honor emblem\n",
            "How much should I give?\n",
            "How the blue triangle helps in France\n",
            "How the hun hates!\n",
            "Hun or home?\n",
            "Hunger\n",
            "Hurry!! : cull your hens\n",
            "I am telling you\n",
            "I have a boy\n",
            "I promise to pay\n",
            "I summon you to the comradeship\n",
            "I want you\n",
            "I want you for U.S. army\n",
            "If Lincoln lived today\n",
            "If industry makes life worth living\n",
            "If it's worth living under\n",
            "If the cap fits you\n",
            "If you can use tools you are wanted\n",
            "If you can't enlist - invest\n",
            "If you can't fight you can pay\n",
            "If you can't go across with a gun\n",
            "If you cannot enlist, join the Hampstead Volunteer Reserve\n",
            "If you cannot give a life\n",
            "If you cannot join the army\n",
            "If you intend to join voluntarily before the military service bill comes into operation\n",
            "If you knew a day's pay would save a life\n",
            "If you were a German\n",
            "If your soldier's hit\n",
            "Il faut vaincre la tuberculose\n",
            "Ils combattent: souscrivons\n",
            "Ils ont pillé, saccagé, volé, assassiné!\n",
            "In Belgium : help\n",
            "In her hour of need\n",
            "Indian Ink\n",
            "Industrial war bread?\n",
            "Industry and commercial enterprise\n",
            "Industry is:\n",
            "Invest for prosperity\n",
            "Invest your money with Uncle Sam!\n",
            "Invest!\n",
            "Is your home here? : defend it!\n",
            "It calls you : your country\n",
            "It is going to be a long drawn-out struggle\n",
            "It's a dare! : join the tanks\n",
            "It's up to you\n",
            "J'offre un quinquina\n",
            "Jérusalem délivrée\n",
            "Joan of Arc saved France\n",
            "Join : all you need is a heart and a dollar\n",
            "Join Army Navy Marines\n",
            "Join the Army Air Service\n",
            "Join the Black Toms\n",
            "Join the Royal Marines\n",
            "Join the air service and serve in France\n",
            "Join the brave throng that goes marching along\n",
            "Join the navy\n",
            "Join the tanks\n",
            "Journée De L'Armée D'Afrique\n",
            "Journée De Paris\n",
            "Journée Du Poilu\n",
            "Journée National des Orphelins\n",
            "Journée Nationale Des Tuberculeux\n",
            "Journée Nationale des Tuberculeux\n",
            "Journée Serbe\n",
            "Journée de Hèrault\n",
            "Journée de l'armée d'Afrique\n",
            "Journée de la Vendée\n",
            "Journée du Poilu\n",
            "Journée du Puy de Dôme\n",
            "Journées en l'honneur de l'Alsace-Lorraine\n",
            "June 28th is National War Savings Day\n",
            "Jutland Day\n",
            "Kaiser and our army : \"just once!\"\n",
            "Keep it coming\n",
            "Keep on saving\n",
            "Keep these off the U.S.A.\n",
            "Keep this hand of mercy at its work\n",
            "Keep'em smiling\n",
            "Kensington and Fulham General Hospital : Golliwog Day\n",
            "Khaki and overalls\n",
            "L'Aisne dévastée\n",
            "L'Alcool Tue\n",
            "L'Allemagne a provoqué la guerre\n",
            "L'Amitié des États Unis\n",
            "L'Art Guerrier\n",
            "L'Association Générale des Mutilés de la Guerre\n",
            "L'Emprunt de la libération\n",
            "L'Emprunt des \"Dernières Cartouches\"\n",
            "L'Italia ha bisogno di Carne, frumento, grasso & zucchero\n",
            "L'Oeuvre édite\n",
            "L'attente\n",
            "L'œuvre de Gustave Téry\n",
            "La France Libre\n",
            "La Guerre Europeenne 1914-1915\n",
            "La Journée Serbe\n",
            "La Journée du Poilu\n",
            "La Protection du Réformé\n",
            "La Renaissance des Foyers en Alsace\n",
            "La Vermine du Monde\n",
            "La culture des peuples\n",
            "La liberté ou l'esclavage\n",
            "La protection du réformé\n",
            "La volonté d'agression de l'Allemagne\n",
            "Ladies Emergency Committee of the Navy League\n",
            "Lads, you're wanted\n",
            "Laissez circuler la monnaie d'argent et de billon\n",
            "Launch 40-day ship at Baltimore\n",
            "Le Bon Feu\n",
            "Le Cardinal Mercier protège La Belgique\n",
            "Le Grand Etat-Major allemand\n",
            "Le bon feu\n",
            "Le feu sacré\n",
            "Le foyer du soldat\n",
            "Le plan pangermaniste\n",
            "Le respect des droits de l'homme\n",
            "Le vêtement du prisonnier de guerre\n",
            "Learn to ride\n",
            "Lend - the way they fight\n",
            "Lend the way they fight\n",
            "Lend your strong right arm to your country : enlist now\n",
            "Lend!\n",
            "Lend! lend! double the third!\n",
            "Les Alsaciens et les Lorrains sont Français!\n",
            "Les Amis des Artistes\n",
            "Les Cercles de l'Armée\n",
            "Les Foyers Du Soldat\n",
            "Les combattants de la grande guerre\n",
            "Les foyers du soldat\n",
            "Less waste, more production\n",
            "Lest they perish\n",
            "Lest we perish\n",
            "Let us carry on this war until we end all war[picture]\n",
            "Let's end it - quick\n",
            "Liberty Loan of 1917\n",
            "Liberty V Loan\n",
            "Liberty loan : become a patriotic bond holder\n",
            "Ligue Navale\n",
            "Ligue Navale Française\n",
            "Line up boys!\n",
            "Lire dans l'Evénement\n",
            "Little Americans do your bit\n",
            "Look for the honor flags\n",
            "Look out for this kind of American(?) citizen\n",
            "Lord Kitchener says\n",
            "Lord Roberts Memorial Workshops\n",
            "Make every egg count\n",
            "Make every minute count for Pershing\n",
            "Make the fourth of July Americanization Day\n",
            "Make the world safe : enlist now\n",
            "Make us as proud of you as we are of him!\n",
            "Make your dollars end the war\n",
            "Man the ships!\n",
            "Mangez moins de viande\n",
            "Many peoples one nation\n",
            "Marne, Yser, Somme, Verdun\n",
            "Mars appeals to Vulcan\n",
            "Matinée au profit des artistes russes residant en France\n",
            "May 20th -27 : help the greatest mother in the world\n",
            "Men of Britain\n",
            "Men of London!\n",
            "Men on the march\n",
            "Men wanted for the army\n",
            "Men, the country needs you now\n",
            "Mesopotamia Day, Friday April 13\n",
            "Military Service Act, 1916\n",
            "Military map of the United States\n",
            "Milk is the best of all foods\n",
            "Missing!\n",
            "Missouri leads in food increase\n",
            "More men are wanted for His Majesty's army\n",
            "Most urgent of all funds : help the wounded\n",
            "Motherless fatherless starving\n",
            "Mr. Consumer\n",
            "Mr. Farmer\n",
            "Munissez vous de monnaie!\n",
            "Musée du Luxembourg\n",
            "Must children die and mothers plead in vain?\n",
            "My daddy bought me a government bond\n",
            "My soldier\n",
            "N'oublions jamais\n",
            "National Service : Enrol to-day\n",
            "National Service Women's Land Army\n",
            "National Tribute week\n",
            "National baby week : 1st-7th week\n",
            "National egg day\n",
            "National prosperity depends\n",
            "National service\n",
            "Navy recruiting week\n",
            "Ne pas gaspiller le pain\n",
            "No war talk!\n",
            "Noel 1918\n",
            "Noël pour la grande paix qui vient\n",
            "Not everyone can go to France\n",
            "Not just hats off to the flag but sleeves up for it!\n",
            "Notice : ex-non-commissioned officers urgently wanted\n",
            "Notice : the United States to employees of war industries\n",
            "Nous saurons nous en priver\n",
            "Nous voulons vivre aidez-nous!\n",
            "Now for some music\n",
            "Oeuvre Des Masseurs Aveugles De La Guerre\n",
            "Oeuvre de la somme dévastée\n",
            "Oeuvre du fusilier marin\n",
            "Oeuvres Municipales de Guerre\n",
            "Offer your services now\n",
            "Office de Renseignements pour les Families Dispersées\n",
            "Officers' training camps\n",
            "Official United States war films\n",
            "Oh, boy! : that's the girl\n",
            "Old age must come\n",
            "On est prié de ne pas cracher par terre\n",
            "On guard!\n",
            "On les aura!\n",
            "On the job for victory\n",
            "One of the thousand Y.M.C.A. in France\n",
            "Our Dumb Friends' League\n",
            "Our boys must face the ravages of war\n",
            "Our country\n",
            "Our country needs ships\n",
            "Our daddy is fighting at the front for you-\n",
            "Our flags, beat Germany\n",
            "Our good mule \"industry\"\n",
            "Our three lines of National Defense\n",
            "Over the top for you\n",
            "Palais Des Beaux-Arts De La Ville De Paris\n",
            "Palais Du Trocadéro\n",
            "Pals!\n",
            "Par deux fois j'ai tenu et vaincu sur la Marne\n",
            "Pas trop de chahut\n",
            "Passage De L'Yser Flandres - Nov.-1914\n",
            "Passant!\n",
            "Patriotic League\n",
            "Pave the way to victory\n",
            "Per la libertà e la civiltà del mondo\n",
            "Pershing cables\n",
            "Pershing patriot\n",
            "Pershing's crusaders\n",
            "Plant a garden\n",
            "Potages et Bouillon\n",
            "Pour Hâter la Victoire\n",
            "Pour La Lorraine Libérée\n",
            "Pour La Victoire\n",
            "Pour donner des armes\n",
            "Pour la Patrie\n",
            "Pour la liberte du monde\n",
            "Pour la victoire\n",
            "Pour le Drapeau! Pour la Victoire!\n",
            "Pour le dernier quart d'heure..,\n",
            "Pour le foyer du soldat aveugle\n",
            "Pour le retour souscrivez\n",
            "Pour le triomphe\n",
            "Pour que la France soit victorieuse!\n",
            "Pour que vos enfants ne connaissent plus\n",
            "Pourquoi la paix ne peut être fondée\n",
            "Prestito nazionale : rendita consolidata 5% netto\n",
            "Prêtez vos billets de banque a la France\n",
            "Prise d'armes aux Invalides\n",
            "Pro patria!\n",
            "Proclamation!\n",
            "Produce infertile eggs!\n",
            "Proper care before birth\n",
            "Prosperity town\n",
            "Protection du Réformé\n",
            "Provide the sinews of war : buy liberty bonds\n",
            "Pvt. Treptow's pledge\n",
            "Queen Alexandra's Field Force Fund\n",
            "Question : How can I help my country?\n",
            "R.S.P.C.A\n",
            "Raise more poultry\n",
            "Rally round the flag\n",
            "Rally' round the flag with United States Marines\n",
            "Read these facts about your American Red Cross\n",
            "Red Star\n",
            "Register : June 5th\n",
            "Remember Belgium\n",
            "Remember Belgium : enlist to-day\n",
            "Remember Scarborough!\n",
            "Remember the 'Lusitania'\n",
            "Remember the bond\n",
            "Remember your first thrill of American Liberty\n",
            "Remember! : the flag of liberty support it!\n",
            "Réservez le vin\n",
            "Rights of citizenship\n",
            "Ring it again\n",
            "Rivets are bayonets : drive them home!\n",
            "Royal Air Force : exhibition of enemy aircraft\n",
            "Rumania's Day : the two forces\n",
            "Safety first\n",
            "Safety in office and drafting rooms\n",
            "Salle Du Trocadéro\n",
            "Salon Des Armees\n",
            "Sauvons les bébés\n",
            "Save Serbia our ally\n",
            "Save a loaf a week ; help win the war\n",
            "Save air\n",
            "Save and invest in the safest simplest security\n",
            "Save seed corn now!\n",
            "Save the wheat and help the fleet : eat less bread.\n",
            "Save wheat, meat, fats, and sugar\n",
            "Save your child\n",
            "Second Liberty Loan of 1917\n",
            "Second Red Cross War Fund\n",
            "Second United States official war picture\n",
            "See him through : help us to help the boys\n",
            "See ravished Armenia\n",
            "Semez du blé\n",
            "Sempre avanti!!\n",
            "Send Sammy Smileage : $1.00\n",
            "Send off day\n",
            "Shall Uncle Sam's navy suffer\n",
            "She helps her boy to save ships\n",
            "Ships are needed to win the war\n",
            "Ships for Uncle Sam\n",
            "Shoot ships to Germany and help America win\n",
            "Side by side- : Britannia!\n",
            "Singing for victory\n",
            "Single men\n",
            "Single men are urged not to put off voluntary enlistment\n",
            "Single men!\n",
            "Sir- don't waste while your wife saves\n",
            "Size up your savings\n",
            "Société Française de Secours aux Blessés Militaires\n",
            "Société Marseillaise\n",
            "Soignons la Basse-Cour\n",
            "Soldier's separation allowances\n",
            "Soldiers - sailors and women guests\n",
            "Soldiers' separation allowances\n",
            "Some business is necessarily big business\n",
            "Some women are sending their men\n",
            "Sottoscrivete al prestito\n",
            "Souscrivez Pour La Victoire\n",
            "Souscrivez a l'emprunt de la libération\n",
            "Souscrivez au IVème emprunt\n",
            "Souscrivez tous au 3 Emprunt\n",
            "Souvenez-vous des crimes allemands!\n",
            "Souvenez-vous!\n",
            "Souvenez-vous?\n",
            "Stage women's war relief\n",
            "Star & Garter Home\n",
            "Stenographers! ; the Kaiser is afraid of you!\n",
            "Step into your place\n",
            "Stick to your job\n",
            "Stop : have you gone your limit in Liberty bonds?\n",
            "Stop and think!\n",
            "Subscriber Victory Liberty Loan\n",
            "Success in industry\n",
            "Success in war\n",
            "Sugar :  save it\n",
            "Suivez ces conseils\n",
            "Sure! : we'll finish the job\n",
            "Take a hand in upbuilding the nation's defenses\n",
            "Take up the sword of justice\n",
            "Take up the sword of justice : join now\n",
            "Team work will win the war!\n",
            "Team work wins\n",
            "Team work wins!\n",
            "Tell that to the Marines!\n",
            "Ten million new members by Christmas\n",
            "Terrasse du Jardin Public\n",
            "That liberty shall not perish from the earth\n",
            "The 4-leaf clover of industry\n",
            "The A.E.F. to the president\n",
            "The British sovereign will win\n",
            "The Empire's need men munitions money\n",
            "The Harriman National Bank urges faith\n",
            "The Hun~his mark : blot it out\n",
            "The Lord Mayor of London appeals for help\n",
            "The Military Service Act, 1916\n",
            "The Military Service Act, 1916,\n",
            "The Motor Corps of America\n",
            "The Nation's Fund for nurses\n",
            "The Navy needs you!\n",
            "The President says\n",
            "The Prime Minister's pledge\n",
            "The Red Cross\n",
            "The U.S. Air Service needs carpenters\n",
            "The U.S. Marines\n",
            "The U.S. Marines want you\n",
            "The United States is the only nation\n",
            "The best form of monopoly\n",
            "The big boot\n",
            "The biggest gun in the war for democracy\n",
            "The call to duty\n",
            "The children's year : April 6 1918 to April 6 1919\n",
            "The church army and his majesty's forces.\n",
            "The church army in Palestine\n",
            "The court of honor\n",
            "The efficiency of this organization\n",
            "The father of our country\n",
            "The girl reserves of the Y.W.C.A.\n",
            "The hand that threatens our industrial life\n",
            "The heart of America\n",
            "The hun and the home\n",
            "The industrial soldier\n",
            "The iron heel vs. the mailed fist, the pacifist and the pessimist\n",
            "The key to the situation\n",
            "The man at the bench\n",
            "The men behind the man behind the gun\n",
            "The military service bill\n",
            "The minute men of to.day are going to Plattsburg\n",
            "The nation's supreme test\n",
            "The naval militia\n",
            "The navy needs you\n",
            "The new military service bill need not apply to you if you enlist now\n",
            "The only road for an Englishman\n",
            "The patriot\n",
            "The remaking of Belgium exhibition\n",
            "The road to France\n",
            "The roll call : a masque of the Red Cross\n",
            "The scrap of paper\n",
            "The second artillery 1840-1917 needs 200 real men\n",
            "The second official United States war picture\n",
            "The ships are coming\n",
            "The shot that will win the war\n",
            "The spirit of '17 '76\n",
            "The spirit of '18 : the world cry food\n",
            "The spirit of '76\n",
            "The success of this business\n",
            "The ten commandments of womanhood\n",
            "The test of our loyalty is the measure of our sacrifice\n",
            "The thin khaki line\n",
            "The tidal wave\n",
            "The time is not far distant if we keep the old clock wound up\n",
            "The veteran's farewell\n",
            "The war against accidents\n",
            "The war of munitions : how Great Britain has mobilised her industries\n",
            "The watchers of the seas\n",
            "The will to win\n",
            "The woman's land army of America\n",
            "The work that you do every day\n",
            "The world cannot live half slave, half free\n",
            "The zeppelin raids: the vow of vengeance\n",
            "Theatre Sarah - Bernhardt\n",
            "Their home!\n",
            "There are three types of men\n",
            "There is still a place in the line for you\n",
            "There's room for you\n",
            "They fight for you : protect them\n",
            "They give their lives\n",
            "They help you and pay interest\n",
            "They kept the sea lanes open\n",
            "They serve France\n",
            "They signal \"send books\"\n",
            "Théâtre Sarah-Bernhardt\n",
            "Théâtre des Arts\n",
            "Think it over\n",
            "Think what you can afford to give - then double it\n",
            "Think!\n",
            "This couldn't happen\n",
            "This deuce will beat a king\n",
            "This device on hat or helmet means U.S. Marines\n",
            "This is not the time for knocking or growling\n",
            "This is what God gives us\n",
            "This is your war\n",
            "Thousands have answered the nation's call\n",
            "Thrift as a good habit\n",
            "Thrift is power\n",
            "Through a baby clinic\n",
            "To Belgium\n",
            "To France\n",
            "To all employees : a call to action!\n",
            "To everyone in this plant:\n",
            "To maintain the prosperity of Canada\n",
            "To public opinion\n",
            "To shipbuilders!\n",
            "To the fireman\n",
            "To the miner\n",
            "To the women of Britain\n",
            "To-day buy that liberty bond\n",
            "Together we win\n",
            "Tout l'acier et le charbon pour nos usines\n",
            "Trained health officers and visiting nurses\n",
            "Treat'em rough!\n",
            "U.S. Army\n",
            "U.S. Marine : be a sea soldier\n",
            "U.S. Marines\n",
            "U.S. Marines : \"soldiers of the sea\"\n",
            "U.S. Marines : soldiers of the sea\n",
            "U.S. Official war pictures\n",
            "U.S.A. bonds\n",
            "Un \"155\" long dans l'Argonne\n",
            "Un dernier effort et on l'aura\n",
            "Un peuple est devenu par son orgueil\n",
            "Uncle Sam says\n",
            "Uncle Sam wants you!\n",
            "Under Lord Derby's scheme\n",
            "Under four flags\n",
            "Union Fraternelle et Protection Girondine\n",
            "Union amicale d'Alsace Lorraine\n",
            "Union des Colonies Étrangères\n",
            "Union des Grandes Associations Françaises contre la Propagande Ennemie\n",
            "United American industry must back up the boys \"over there\"\n",
            "United States official war films\n",
            "United behind the service star\n",
            "United we serve\n",
            "Uphold the tradition of Indiana\n",
            "Urgent!\n",
            "V invest\n",
            "Venez en aide aux soldats Alsaciens-Lorrains\n",
            "Vente de Charité\n",
            "Victory : spell it boys\n",
            "Vive la nation!\n",
            "Voila les Americains!\n",
            "Vous aussi faites votre devoir\n",
            "Vous devez leur donner les moyens\n",
            "W.A.F. (Women's Auxiliary Force) Vegetable Day.\n",
            "Wake up- New Yorkers!\n",
            "Wanted farmers\n",
            "Wanted! 500 bakers for the U.S. Army\n",
            "Wanted: huskey young Americans\n",
            "War clouds gather!\n",
            "War rages in France : we must feed them\n",
            "Ways and means\n",
            "We are fighting for a worthy purpose\n",
            "We are pledged to buy\n",
            "We are vitally interested\n",
            "We clear the way for your fighting dollars\n",
            "We have in America\n",
            "We have subscribed for a Liberty bond : Have you?\n",
            "We risk our lives to bring you food\n",
            "We sell $10 Liberty Loan certificates\n",
            "Welcome Noble Belgium\n",
            "Welcome Soldiers Sailors Marines\n",
            "Welcome them home\n",
            "What can you do?\n",
            "What doth it profit a man?\n",
            "What in the end will settle the war?\n",
            "What in the end will settle this war?\n",
            "What the \"W\" stands for\n",
            "When you attack men who maintain pay rolls\n",
            "Where is your victory button?\n",
            "Where the victims are\n",
            "Which bridge do you want?\n",
            "Which? : have you a reason or only an excuse-\n",
            "While someone gives his life - : what are you giving?\n",
            "Who made these little islands\n",
            "Who was the greatest soldier in the world?\n",
            "Who will win the war?\n",
            "Why Germany wants peace now\n",
            "Why Loyal Americans are keeping the pledge to eat less wheat and meat\n",
            "Why are you stopping here, when your pals are out there?\n",
            "Why aren't you in khaki?\n",
            "Why more men are needed\n",
            "Why we are at war\n",
            "Will you co-operate or will you obstruct?\n",
            "Will you help?\n",
            "Will you supply eyes for the navy?\n",
            "Will your subscription mean to your family a sacrifice\n",
            "Wireless operators for work of national importance\n",
            "Women clerks wanted at once\n",
            "Women in war time\n",
            "Women of Britain say \"Go\"\n",
            "Women urgently wanted for the W.A.A.C.\n",
            "Women! : help America's sons win the war\n",
            "Workers YMCA\n",
            "Workers of America!\n",
            "World Pictures present\n",
            "Would you legislate industry\n",
            "Y.M.C.A. : 3 A.M. in a London station hut\n",
            "Y.M.C.A. : free to all men of H.M. Forces\n",
            "Y.M.C.A. Red Triangle Fund\n",
            "Y.W.C.A\n",
            "Y.W.C.A.\n",
            "YMCA\n",
            "YMCA his home over there\n",
            "Yes sir--I am here!\n",
            "You buy a Liberty Bond : lest perish\n",
            "You drive a car here- : why not a transport in France\n",
            "Your King & country need you : a call to arms\n",
            "Your country appeals for humanity\n",
            "Your country calls : enlist\n",
            "Your country is at war\n",
            "Your country needs you- : join the navy!\n",
            "Your country's call\n",
            "Your flag and my flag\n",
            "Your king & country need you\n",
            "Your king and country need you\n",
            "Your king and country need you : enlist now\n",
            "Your liberty bonds build and maintain these camps\n",
            "Your president and your governor endorse the children's year\n",
            "Your war savings pledge\n",
            "Your work means victory\n",
            "[Lafayette and Uncle Sam] [picture]\n",
            "[Man on horse tossing war stamps]\n",
            "[Man welcoming three servicemen home]\n",
            "[Red Cross Nurse]\n",
            "[Red Star shield]\n"
          ]
        },
        {
          "output_type": "error",
          "ename": "KeyError",
          "evalue": "ignored",
          "traceback": [
            "\u001b[0;31m---------------------------------------------------------------------------\u001b[0m",
            "\u001b[0;31mKeyError\u001b[0m                                  Traceback (most recent call last)",
            "\u001b[0;32m/usr/local/lib/python3.7/dist-packages/pandas/core/indexes/base.py\u001b[0m in \u001b[0;36mget_loc\u001b[0;34m(self, key, method, tolerance)\u001b[0m\n\u001b[1;32m   2897\u001b[0m             \u001b[0;32mtry\u001b[0m\u001b[0;34m:\u001b[0m\u001b[0;34m\u001b[0m\u001b[0;34m\u001b[0m\u001b[0m\n\u001b[0;32m-> 2898\u001b[0;31m                 \u001b[0;32mreturn\u001b[0m \u001b[0mself\u001b[0m\u001b[0;34m.\u001b[0m\u001b[0m_engine\u001b[0m\u001b[0;34m.\u001b[0m\u001b[0mget_loc\u001b[0m\u001b[0;34m(\u001b[0m\u001b[0mcasted_key\u001b[0m\u001b[0;34m)\u001b[0m\u001b[0;34m\u001b[0m\u001b[0;34m\u001b[0m\u001b[0m\n\u001b[0m\u001b[1;32m   2899\u001b[0m             \u001b[0;32mexcept\u001b[0m \u001b[0mKeyError\u001b[0m \u001b[0;32mas\u001b[0m \u001b[0merr\u001b[0m\u001b[0;34m:\u001b[0m\u001b[0;34m\u001b[0m\u001b[0;34m\u001b[0m\u001b[0m\n",
            "\u001b[0;32mpandas/_libs/index.pyx\u001b[0m in \u001b[0;36mpandas._libs.index.IndexEngine.get_loc\u001b[0;34m()\u001b[0m\n",
            "\u001b[0;32mpandas/_libs/index.pyx\u001b[0m in \u001b[0;36mpandas._libs.index.IndexEngine.get_loc\u001b[0;34m()\u001b[0m\n",
            "\u001b[0;32mpandas/_libs/hashtable_class_helper.pxi\u001b[0m in \u001b[0;36mpandas._libs.hashtable.PyObjectHashTable.get_item\u001b[0;34m()\u001b[0m\n",
            "\u001b[0;32mpandas/_libs/hashtable_class_helper.pxi\u001b[0m in \u001b[0;36mpandas._libs.hashtable.PyObjectHashTable.get_item\u001b[0;34m()\u001b[0m\n",
            "\u001b[0;31mKeyError\u001b[0m: 'contributor'",
            "\nThe above exception was the direct cause of the following exception:\n",
            "\u001b[0;31mKeyError\u001b[0m                                  Traceback (most recent call last)",
            "\u001b[0;32m<ipython-input-9-b9e90c4479ab>\u001b[0m in \u001b[0;36m<module>\u001b[0;34m()\u001b[0m\n\u001b[1;32m      5\u001b[0m     \u001b[0mprint\u001b[0m\u001b[0;34m(\u001b[0m\u001b[0ma\u001b[0m\u001b[0;34m)\u001b[0m\u001b[0;34m\u001b[0m\u001b[0;34m\u001b[0m\u001b[0m\n\u001b[1;32m      6\u001b[0m \u001b[0;31m# Splits the people column and counts frequencies\u001b[0m\u001b[0;34m\u001b[0m\u001b[0;34m\u001b[0m\u001b[0;34m\u001b[0m\u001b[0m\n\u001b[0;32m----> 7\u001b[0;31m \u001b[0martist_counts\u001b[0m \u001b[0;34m=\u001b[0m \u001b[0mdf\u001b[0m\u001b[0;34m[\u001b[0m\u001b[0;34m'contributor'\u001b[0m\u001b[0;34m]\u001b[0m\u001b[0;34m.\u001b[0m\u001b[0mstr\u001b[0m\u001b[0;34m.\u001b[0m\u001b[0msplit\u001b[0m\u001b[0;34m(\u001b[0m\u001b[0;34m'|'\u001b[0m\u001b[0;34m)\u001b[0m\u001b[0;34m.\u001b[0m\u001b[0mapply\u001b[0m\u001b[0;34m(\u001b[0m\u001b[0;32mlambda\u001b[0m \u001b[0mx\u001b[0m\u001b[0;34m:\u001b[0m \u001b[0mpd\u001b[0m\u001b[0;34m.\u001b[0m\u001b[0mSeries\u001b[0m\u001b[0;34m(\u001b[0m\u001b[0mx\u001b[0m\u001b[0;34m)\u001b[0m\u001b[0;34m.\u001b[0m\u001b[0mvalue_counts\u001b[0m\u001b[0;34m(\u001b[0m\u001b[0;34m)\u001b[0m\u001b[0;34m)\u001b[0m\u001b[0;34m.\u001b[0m\u001b[0msum\u001b[0m\u001b[0;34m(\u001b[0m\u001b[0;34m)\u001b[0m\u001b[0;34m.\u001b[0m\u001b[0mastype\u001b[0m\u001b[0;34m(\u001b[0m\u001b[0;34m'int'\u001b[0m\u001b[0;34m)\u001b[0m\u001b[0;34m.\u001b[0m\u001b[0msort_values\u001b[0m\u001b[0;34m(\u001b[0m\u001b[0mascending\u001b[0m\u001b[0;34m=\u001b[0m\u001b[0;32mFalse\u001b[0m\u001b[0;34m)\u001b[0m\u001b[0;34m.\u001b[0m\u001b[0mto_frame\u001b[0m\u001b[0;34m(\u001b[0m\u001b[0;34m)\u001b[0m\u001b[0;34m.\u001b[0m\u001b[0mreset_index\u001b[0m\u001b[0;34m(\u001b[0m\u001b[0mlevel\u001b[0m\u001b[0;34m=\u001b[0m\u001b[0;36m0\u001b[0m\u001b[0;34m)\u001b[0m\u001b[0;34m\u001b[0m\u001b[0;34m\u001b[0m\u001b[0m\n\u001b[0m\u001b[1;32m      8\u001b[0m \u001b[0;31m# Add column names\u001b[0m\u001b[0;34m\u001b[0m\u001b[0;34m\u001b[0m\u001b[0;34m\u001b[0m\u001b[0m\n\u001b[1;32m      9\u001b[0m \u001b[0martist_counts\u001b[0m\u001b[0;34m.\u001b[0m\u001b[0mcolumns\u001b[0m \u001b[0;34m=\u001b[0m \u001b[0;34m[\u001b[0m\u001b[0;34m'Contributor'\u001b[0m\u001b[0;34m,\u001b[0m \u001b[0;34m'count'\u001b[0m\u001b[0;34m]\u001b[0m\u001b[0;34m\u001b[0m\u001b[0;34m\u001b[0m\u001b[0m\n",
            "\u001b[0;32m/usr/local/lib/python3.7/dist-packages/pandas/core/frame.py\u001b[0m in \u001b[0;36m__getitem__\u001b[0;34m(self, key)\u001b[0m\n\u001b[1;32m   2904\u001b[0m             \u001b[0;32mif\u001b[0m \u001b[0mself\u001b[0m\u001b[0;34m.\u001b[0m\u001b[0mcolumns\u001b[0m\u001b[0;34m.\u001b[0m\u001b[0mnlevels\u001b[0m \u001b[0;34m>\u001b[0m \u001b[0;36m1\u001b[0m\u001b[0;34m:\u001b[0m\u001b[0;34m\u001b[0m\u001b[0;34m\u001b[0m\u001b[0m\n\u001b[1;32m   2905\u001b[0m                 \u001b[0;32mreturn\u001b[0m \u001b[0mself\u001b[0m\u001b[0;34m.\u001b[0m\u001b[0m_getitem_multilevel\u001b[0m\u001b[0;34m(\u001b[0m\u001b[0mkey\u001b[0m\u001b[0;34m)\u001b[0m\u001b[0;34m\u001b[0m\u001b[0;34m\u001b[0m\u001b[0m\n\u001b[0;32m-> 2906\u001b[0;31m             \u001b[0mindexer\u001b[0m \u001b[0;34m=\u001b[0m \u001b[0mself\u001b[0m\u001b[0;34m.\u001b[0m\u001b[0mcolumns\u001b[0m\u001b[0;34m.\u001b[0m\u001b[0mget_loc\u001b[0m\u001b[0;34m(\u001b[0m\u001b[0mkey\u001b[0m\u001b[0;34m)\u001b[0m\u001b[0;34m\u001b[0m\u001b[0;34m\u001b[0m\u001b[0m\n\u001b[0m\u001b[1;32m   2907\u001b[0m             \u001b[0;32mif\u001b[0m \u001b[0mis_integer\u001b[0m\u001b[0;34m(\u001b[0m\u001b[0mindexer\u001b[0m\u001b[0;34m)\u001b[0m\u001b[0;34m:\u001b[0m\u001b[0;34m\u001b[0m\u001b[0;34m\u001b[0m\u001b[0m\n\u001b[1;32m   2908\u001b[0m                 \u001b[0mindexer\u001b[0m \u001b[0;34m=\u001b[0m \u001b[0;34m[\u001b[0m\u001b[0mindexer\u001b[0m\u001b[0;34m]\u001b[0m\u001b[0;34m\u001b[0m\u001b[0;34m\u001b[0m\u001b[0m\n",
            "\u001b[0;32m/usr/local/lib/python3.7/dist-packages/pandas/core/indexes/base.py\u001b[0m in \u001b[0;36mget_loc\u001b[0;34m(self, key, method, tolerance)\u001b[0m\n\u001b[1;32m   2898\u001b[0m                 \u001b[0;32mreturn\u001b[0m \u001b[0mself\u001b[0m\u001b[0;34m.\u001b[0m\u001b[0m_engine\u001b[0m\u001b[0;34m.\u001b[0m\u001b[0mget_loc\u001b[0m\u001b[0;34m(\u001b[0m\u001b[0mcasted_key\u001b[0m\u001b[0;34m)\u001b[0m\u001b[0;34m\u001b[0m\u001b[0;34m\u001b[0m\u001b[0m\n\u001b[1;32m   2899\u001b[0m             \u001b[0;32mexcept\u001b[0m \u001b[0mKeyError\u001b[0m \u001b[0;32mas\u001b[0m \u001b[0merr\u001b[0m\u001b[0;34m:\u001b[0m\u001b[0;34m\u001b[0m\u001b[0;34m\u001b[0m\u001b[0m\n\u001b[0;32m-> 2900\u001b[0;31m                 \u001b[0;32mraise\u001b[0m \u001b[0mKeyError\u001b[0m\u001b[0;34m(\u001b[0m\u001b[0mkey\u001b[0m\u001b[0;34m)\u001b[0m \u001b[0;32mfrom\u001b[0m \u001b[0merr\u001b[0m\u001b[0;34m\u001b[0m\u001b[0;34m\u001b[0m\u001b[0m\n\u001b[0m\u001b[1;32m   2901\u001b[0m \u001b[0;34m\u001b[0m\u001b[0m\n\u001b[1;32m   2902\u001b[0m         \u001b[0;32mif\u001b[0m \u001b[0mtolerance\u001b[0m \u001b[0;32mis\u001b[0m \u001b[0;32mnot\u001b[0m \u001b[0;32mNone\u001b[0m\u001b[0;34m:\u001b[0m\u001b[0;34m\u001b[0m\u001b[0;34m\u001b[0m\u001b[0m\n",
            "\u001b[0;31mKeyError\u001b[0m: 'contributor'"
          ]
        }
      ]
    },
    {
      "cell_type": "markdown",
      "metadata": {
        "id": "xMpxF6l4VdRC"
      },
      "source": [
        "# Download Portraits"
      ]
    },
    {
      "cell_type": "code",
      "metadata": {
        "id": "EfJT25agVb7C"
      },
      "source": [
        "!mkdir images\n",
        "\n",
        "for index, row in df.iterrows():\n",
        "    print(index,     pid = 0\n",
        "    img_urls = {}row['imageUrl'])\n",
        "    response = requests.get(row['imageUrl'])\n",
        "    img = Image.open(BytesIO(response.content))\n",
        "    img.save('images/m-{}.jpg'.format(row['id']), quality=90)"
      ],
      "execution_count": null,
      "outputs": []
    },
    {
      "cell_type": "markdown",
      "metadata": {
        "id": "3Z68WUhfVhpN"
      },
      "source": [
        "## Process Images"
      ]
    },
    {
      "cell_type": "code",
      "metadata": {
        "id": "zr_p2wD7Vikj"
      },
      "source": [
        "rows = 20\n",
        "files = os.listdir('images/')\n",
        "\n",
        "fig = plt.figure(figsize=(100,300))\n",
        "for num, x in enumerate(files):\n",
        "    #img = Image.open('is-images/'+ x)\n",
        "    img = cv2.imread('images/'+ x)\n",
        "    \n",
        "    img_gray = cv2.cvtColor(img, cv2.COLOR_BGR2GRAY)\n",
        "    faces_rects = haar_cascade_face.detectMultiScale(img_gray, scaleFactor = 1.2, minNeighbors = 5);      \n",
        "    \n",
        "    for (x,y,w,h) in faces_rects:\n",
        "        cv2.rectangle(img, (x, y), (x+w, y+h), (0, 255, 0), 2)\n",
        "        \n",
        "    #convert image to RGB and show image\n",
        "    img_face = convertToRGB(img)    \n",
        "    \n",
        "    plt.subplot(rows,5,num+1)\n",
        "    plt.axis('off')\n",
        "    plt.imshow(img_face)"
      ],
      "execution_count": null,
      "outputs": []
    },
    {
      "cell_type": "code",
      "metadata": {
        "id": "MJDzJx6EJeES"
      },
      "source": [
        ""
      ],
      "execution_count": null,
      "outputs": []
    },
    {
      "cell_type": "code",
      "metadata": {
        "id": "d3KMiFazJeHZ"
      },
      "source": [
        ""
      ],
      "execution_count": null,
      "outputs": []
    },
    {
      "cell_type": "code",
      "metadata": {
        "id": "jCyvjAaMJeKs"
      },
      "source": [
        ""
      ],
      "execution_count": null,
      "outputs": []
    },
    {
      "cell_type": "code",
      "metadata": {
        "id": "nuKnaeLDJeNf"
      },
      "source": [
        ""
      ],
      "execution_count": null,
      "outputs": []
    },
    {
      "cell_type": "code",
      "metadata": {
        "id": "8KWWxtByJeQX"
      },
      "source": [
        ""
      ],
      "execution_count": null,
      "outputs": []
    },
    {
      "cell_type": "code",
      "metadata": {
        "id": "0Lojrn-EJeS_"
      },
      "source": [
        ""
      ],
      "execution_count": null,
      "outputs": []
    },
    {
      "cell_type": "code",
      "metadata": {
        "id": "zFkE3nJpJeVl"
      },
      "source": [
        ""
      ],
      "execution_count": null,
      "outputs": []
    },
    {
      "cell_type": "code",
      "metadata": {
        "id": "bgUUbWleJeYV"
      },
      "source": [
        ""
      ],
      "execution_count": null,
      "outputs": []
    },
    {
      "cell_type": "markdown",
      "metadata": {
        "id": "Coj6p_fRVFlO"
      },
      "source": [
        "# Face Detection"
      ]
    },
    {
      "cell_type": "code",
      "metadata": {
        "id": "20ylOuOSW4DX"
      },
      "source": [
        "from google.colab import files\n",
        "\n",
        "uploaded = files.upload()\n",
        "\n",
        "for fn in uploaded.keys():\n",
        "  print('User uploaded file \"{name}\" with length {length} bytes'.format(\n",
        "      name=fn, length=len(uploaded[fn])))"
      ],
      "execution_count": null,
      "outputs": []
    },
    {
      "cell_type": "code",
      "metadata": {
        "id": "oGAqSEL_VG9w"
      },
      "source": [
        "test_image = cv2.imread('submission-example.jpg')\n",
        "\n",
        "plt.imshow(test_image)"
      ],
      "execution_count": null,
      "outputs": []
    },
    {
      "cell_type": "code",
      "metadata": {
        "id": "20hEfpUQVJ95"
      },
      "source": [
        "print(test_image.shape)"
      ],
      "execution_count": null,
      "outputs": []
    },
    {
      "cell_type": "code",
      "metadata": {
        "id": "ypjM50mAVM8s"
      },
      "source": [
        "rgb_image = cv2.cvtColor(test_image, cv2.COLOR_BGR2RGB)\n",
        "plt.imshow(rgb_image)"
      ],
      "execution_count": null,
      "outputs": []
    },
    {
      "cell_type": "code",
      "metadata": {
        "id": "PiNSFvTBVOt1"
      },
      "source": [
        "#We define a function\n",
        "def convertToRGB(image):\n",
        "    return cv2.cvtColor(image, cv2.COLOR_BGR2RGB)"
      ],
      "execution_count": null,
      "outputs": []
    },
    {
      "cell_type": "markdown",
      "metadata": {
        "id": "ftrP-8UPVRMh"
      },
      "source": [
        "## Load Classifier for Faces"
      ]
    },
    {
      "cell_type": "code",
      "metadata": {
        "id": "CAuMxWJoYeHI"
      },
      "source": [
        "# Download from here and upload: https://github.com/opencv/opencv/blob/master/data/haarcascades/haarcascade_frontalface_default.xml\n"
      ],
      "execution_count": null,
      "outputs": []
    },
    {
      "cell_type": "code",
      "metadata": {
        "id": "-P7qR2cXYpRN"
      },
      "source": [
        "from google.colab import files\n",
        "\n",
        "uploaded = files.upload()\n",
        "\n",
        "for fn in uploaded.keys():\n",
        "  print('User uploaded file \"{name}\" with length {length} bytes'.format(\n",
        "      name=fn, length=len(uploaded[fn])))"
      ],
      "execution_count": null,
      "outputs": []
    },
    {
      "cell_type": "code",
      "metadata": {
        "id": "IP0IGHH6VSwD"
      },
      "source": [
        "haar_cascade_face = cv2.CascadeClassifier('haarcascade_frontalface_default.xml')"
      ],
      "execution_count": null,
      "outputs": []
    },
    {
      "cell_type": "code",
      "metadata": {
        "id": "8uub5t9xVVIJ"
      },
      "source": [
        "faces_rects = haar_cascade_face.detectMultiScale(test_image, scaleFactor = 1.2, minNeighbors = 5);\n",
        "\n",
        "# Let us print the no. of faces found\n",
        "print('Faces found: ', len(faces_rects))"
      ],
      "execution_count": null,
      "outputs": []
    },
    {
      "cell_type": "code",
      "metadata": {
        "id": "yRX2f4RkVW89"
      },
      "source": [
        "for (x,y,w,h) in faces_rects:\n",
        "     cv2.rectangle(test_image, (x, y), (x+w, y+h), (0, 255, 0), 2)"
      ],
      "execution_count": null,
      "outputs": []
    },
    {
      "cell_type": "code",
      "metadata": {
        "id": "6n7XXuc5VYpu"
      },
      "source": [
        "plt.imshow(convertToRGB(test_image))"
      ],
      "execution_count": null,
      "outputs": []
    },
    {
      "cell_type": "markdown",
      "metadata": {
        "id": "ZhDYytplDORM"
      },
      "source": [
        "# Everything Below Under Revision"
      ]
    },
    {
      "cell_type": "code",
      "metadata": {
        "id": "3QInvlPNCHY2"
      },
      "source": [
        "# relocate position\n",
        "\n",
        "pid = 0\n",
        "img_urls = {}\n",
        "\n",
        "for i in m['manifests']:\n",
        "    manifestItemUrl = i['@id']\n",
        "    responseManifestItem = requests.get(manifestItemUrl)\n",
        "    manifestItem = json.loads(responseManifestItem.text)\n",
        "    for c in data['sequences'][0]['canvases']:\n",
        "        img_urls[pid]=c['images'][0]['resource']['service']['@id']\n",
        "        print (img_urls[pid])\n",
        "        pid = pid +1\n",
        "print (\"Ready.\")"
      ],
      "execution_count": null,
      "outputs": []
    },
    {
      "cell_type": "markdown",
      "metadata": {
        "id": "4owlhpt1_TPG"
      },
      "source": [
        "## Alternate Query (not working)\n",
        "\n",
        "This might work with the general temple manifest"
      ]
    },
    {
      "cell_type": "code",
      "metadata": {
        "id": "c8OT7zAzTHNS"
      },
      "source": [
        "#https://digital.library.temple.edu/iiif/info/p16002coll4/manifest.json\n",
        "\n",
        "#https://cdm16002.contentdm.oclc.org/iiif/image/' + p16002coll4 +'/full/full/0/default.jpg\n",
        "#https://cdm16002.contentdm.oclc.org/iiif/image/p16002coll4/full/full/0/default.jpg\n",
        "\n",
        "manifestUrl = ' https://digital.library.temple.edu/iiif/info/manifest.json'\n",
        "responseManifest = requests.get(manifestUrl)\n",
        "print(responseManifest.url)\n",
        "\n",
        "# retrieving the metadata\n",
        "m = json.loads(responseManifest.text)\n",
        "\n",
        "#for i in m['collections']:\n",
        "#      print(i['@id'])"
      ],
      "execution_count": null,
      "outputs": []
    },
    {
      "cell_type": "code",
      "metadata": {
        "id": "U9K8-wSqSfOv"
      },
      "source": [
        "for r in m['collections']:\n",
        "    print(r['@id'])\n",
        "    print(r['label'])\n",
        "    try:\n",
        "        #for i in range(len(r['content']['descriptiveNonRepeating']['online_media']['media'])):\n",
        "        for i in range(len(r['@id'])):\n",
        "            idsId = str(r['@id']) - \"https://cdm16002.contentdm.oclc.org/iiif/info/\" \n",
        "            print(idsId)\n",
        "            iiifUrl = r['@id']\n",
        "            # manifestUrl = 'https://cdm16002.contentdm.oclc.org/iiif/info/p16002coll9/p1.json'\n",
        "            iiifItemResponse = requests.get(iiifUrl)\n",
        "            imageUrl = 'https://cdm16002.contentdm.oclc.org/iiif/image/' + idsID +'/full/full/0/default.jpg'\n",
        "            print(imageUrl)\n",
        "            iiifItem = json.loads(iiifItemResponse.text)\n",
        "            title = date = licence = datasource = dimensions = sitter = typem = medium = artist =''\n",
        "            for i in iiifItem['metadata']:\n",
        "                if i['label'] == 'Title':\n",
        "                    title = i['value']\n",
        "                elif i['label'] == 'Date':\n",
        "                    date = i['value']\n",
        "                elif i['label'] == 'Contributor':\n",
        "                    licence = i['value']\n",
        "                elif i['label'] == 'Description':\n",
        "                    datasource = i['value']\n",
        "                elif i['label'] == 'Subject':\n",
        "                    dimensions = i['value']\n",
        "                else: pass\n",
        "            csv_out.writerow([idsId,title,date,conributor,description,subject,iiifUrl,imageUrl])\n",
        "\n",
        "    except:\n",
        "        print(\"An exception occurred\") "
      ],
      "execution_count": null,
      "outputs": []
    },
    {
      "cell_type": "markdown",
      "metadata": {
        "id": "LqZI-5BTNodS"
      },
      "source": [
        "## Query Temple Manifest Metadata (not working)\n",
        "\n",
        "https://digital.library.temple.edu/iiif/info/p16002coll4/manifest.json"
      ]
    },
    {
      "cell_type": "code",
      "metadata": {
        "scrolled": true,
        "id": "nWwG3a1zA3D5"
      },
      "source": [
        "# This appears to be the right way to query the Json:\n",
        "#url = \"https://cdm16002.contentdm.oclc.org/iiif/info/p16002coll4/4/manifest.json\"\n",
        "url = \"https://cdm16002.contentdm.oclc.org/iiif/info/p16002coll9/2909/manifest.json\""
      ],
      "execution_count": null,
      "outputs": []
    },
    {
      "cell_type": "code",
      "metadata": {
        "id": "sQ6m9kB3BtbK"
      },
      "source": [
        "resp = urllib.request.urlopen(url)\n",
        "data = resp.read().decode(\"utf-8\")\n",
        "data = json.loads(data)"
      ],
      "execution_count": null,
      "outputs": []
    },
    {
      "cell_type": "code",
      "metadata": {
        "id": "ggpJR3A7_9gj"
      },
      "source": [
        "pid = 0\n",
        "img_urls = {}\n",
        "for c in data['sequences'][0]['canvases']:\n",
        "    img_urls[pid]=c['images'][0]['resource']['service']['@id']\n",
        "    print (img_urls[pid])\n",
        "    pid = pid +1\n",
        "print (\"Ready.\")"
      ],
      "execution_count": null,
      "outputs": []
    },
    {
      "cell_type": "code",
      "metadata": {
        "id": "S-G5BrgCyM_k"
      },
      "source": [
        "df = pd.json_normalize(data)\n",
        "df"
      ],
      "execution_count": null,
      "outputs": []
    },
    {
      "cell_type": "code",
      "metadata": {
        "id": "Dv1yxOY0UmXi"
      },
      "source": [
        "results = json.loads(data)\n",
        "\n",
        "for r in results['response']['rows']:\n",
        "    print(r['id'] + ' ' +  r['title'])\n",
        "    print(r)\n",
        "    # getting the identifiers of the records to access the IIIF manifests\n",
        "    try:\n",
        "        for i in range(len(r['content']['descriptiveNonRepeating']['online_media']['media'])):\n",
        "            idsId = r['content']['descriptiveNonRepeating']['online_media']['media'][i]['idsId']\n",
        "            print(idsId)\n",
        "            iiifUrl = 'https://digital.library.temple.edu/iiif/ids/manifest/' + idsID\n",
        "            iiifItemResponse = requests.get(iiifUrl)\n",
        "            imageUrl = 'https://digital.library.temple.edu/iiif/' + idsID +'/full/full/0/default.jpg'\n",
        "            print(imageUrl)\n",
        "            iiifItem = json.loads(iiifItemResponse.text)\n",
        "            title = date = licence = datasource = dimensions = sitter = typem = medium = artist =''\n",
        "            for i in iiifItem['metadata']:\n",
        "                if i['label'] == 'Title':\n",
        "                    title = i['value']\n",
        "                elif i['label'] == 'Date':\n",
        "                    date = i['value']\n",
        "                elif i['label'] == 'Creator (Person)':\n",
        "                    licence = i['value']\n",
        "                elif i['label'] == 'Subject':\n",
        "                    datasource = i['value']\n",
        "                elif i['label'] == 'Geographic Subject':\n",
        "                    dimensions = i['value']\n",
        "                elif i['label'] == 'Sitter':\n",
        "                    sitter = i['value']\n",
        "                elif i['label'] == 'Personal Names':\n",
        "                    typem = i['value']\n",
        "                elif i['label'] == 'Note':    \n",
        "                    medium = i['value']\n",
        "                elif i['label'] == 'Type':    \n",
        "                    artist = i['value']\n",
        "                else: pass\n",
        "                \n",
        "            csv_out.writerow([idsId,title,date,licence,datasource,dimensions,sitter,typem,medium,artist,iiifUrl,imageUrl])\n",
        "\n",
        "    except:\n",
        "        print(\"An exception occurred\")  "
      ],
      "execution_count": null,
      "outputs": []
    },
    {
      "cell_type": "code",
      "metadata": {
        "id": "QGXaAQLqUu0c"
      },
      "source": [
        "df = pd.read_csv('si_records.csv')"
      ],
      "execution_count": null,
      "outputs": []
    },
    {
      "cell_type": "code",
      "metadata": {
        "id": "Ulj2bAW8U4fH"
      },
      "source": [
        "len(df)"
      ],
      "execution_count": null,
      "outputs": []
    },
    {
      "cell_type": "code",
      "metadata": {
        "id": "DewybUvUJT31"
      },
      "source": [
        "df = pd.read_csv('si_records.csv')\n",
        "# Get unique values\n",
        "artist = pd.unique(df['Title'].str.split('|', expand=True).stack()).tolist()\n",
        "for a in sorted(artist):\n",
        "    print(a)\n",
        "# Splits the people column and counts frequencies\n",
        "artist_counts = df['contributor'].str.split('|').apply(lambda x: pd.Series(x).value_counts()).sum().astype('int').sort_values(ascending=False).to_frame().reset_index(level=0)\n",
        "# Add column names\n",
        "artist_counts.columns = ['Contributor', 'count']\n",
        "# Display with horizontal bars\n",
        "display(artist_counts.style.bar(subset=['count'], color='#d65f5f').set_properties(subset=['count'], **{'width': '300px'}))\n",
        "# Get unique values\n",
        "types = pd.unique(df['type']).tolist()\n",
        "for type in sorted(types, key=str.lower):\n",
        "    print(type)"
      ],
      "execution_count": null,
      "outputs": []
    },
    {
      "cell_type": "markdown",
      "metadata": {
        "id": "Fm-LGCwqMQ1C"
      },
      "source": [
        "## Extra Code"
      ]
    },
    {
      "cell_type": "code",
      "metadata": {
        "id": "H0n7soU3MSHk"
      },
      "source": [
        "# Get unique values\n",
        "artist = pd.unique(df['Title'].str.split('|', expand=True).stack()).tolist()\n",
        "for a in sorted(artist):\n",
        "    print(a)\n",
        "# Splits the people column and counts frequencies\n",
        "artist_counts = df['contributor'].str.split('|').apply(lambda x: pd.Series(x).value_counts()).sum().astype('int').sort_values(ascending=False).to_frame().reset_index(level=0)\n",
        "# Add column names\n",
        "artist_counts.columns = ['Contributor', 'count']\n",
        "# Display with horizontal bars\n",
        "display(artist_counts.style.bar(subset=['count'], color='#d65f5f').set_properties(subset=['count'], **{'width': '300px'}))\n",
        "# Get unique values\n",
        "types = pd.unique(df['type']).tolist()\n",
        "for type in sorted(types, key=str.lower):\n",
        "    print(type)"
      ],
      "execution_count": null,
      "outputs": []
    }
  ]
}
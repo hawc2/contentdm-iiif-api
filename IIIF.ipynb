{
  "nbformat": 4,
  "nbformat_minor": 0,
  "metadata": {
    "colab": {
      "name": "IIIF.ipynb",
      "provenance": [],
      "collapsed_sections": [
        "4owlhpt1_TPG",
        "LqZI-5BTNodS"
      ],
      "toc_visible": true,
      "include_colab_link": true
    },
    "kernelspec": {
      "name": "python3",
      "display_name": "Python 3"
    },
    "accelerator": "TPU"
  },
  "cells": [
    {
      "cell_type": "markdown",
      "metadata": {
        "id": "view-in-github",
        "colab_type": "text"
      },
      "source": [
        "<a href=\"https://colab.research.google.com/github/hawc2/contentdm-iiif-api/blob/main/IIIF.ipynb\" target=\"_parent\"><img src=\"https://colab.research.google.com/assets/colab-badge.svg\" alt=\"Open In Colab\"/></a>"
      ]
    },
    {
      "cell_type": "markdown",
      "metadata": {
        "id": "72HCVOsd19cO"
      },
      "source": [
        "# Goal\n",
        "\n",
        "First goal: Download the images with metadata from ContentDM or OAI-PMH\n",
        "\n",
        "Second goal: Feed images into the facial recognition pipeline\n",
        "\n",
        "# Source \n",
        "\n",
        "This is adapting this Smithsonian notebook https://github.com/hibernator11/notebook-iiif-images\n",
        "\n",
        "\n",
        "# Questions\n",
        "\n",
        "How to connect IIIF API with other ContentDM or OAI-PMH endpoints?\n",
        "\n",
        "https://iiif.io/api/cookbook/\n",
        "\n",
        "# Issues\n",
        "\n",
        "find \"thumbnails\" in ContentDM IIIF API. \n",
        "\n",
        "# To Do\n",
        "\n",
        "Create variable for user to set which iiif collection to download"
      ]
    },
    {
      "cell_type": "markdown",
      "metadata": {
        "id": "-4aMUQelUoea"
      },
      "source": [
        "# API Calls\n",
        "\n",
        "\n",
        "/https://digital.library.temple.edu/iiif/{collectionID}/{objectID}/info.json\n",
        "\n",
        "https://digital.library.temple.edu/iiif/info/p16002coll4/manifest.json\n",
        "\n",
        " /iiif/{collectionID}/{objectID}/{region}/{size}/{rotation}/{quality}.{format}\n",
        "\n",
        "# Temple API Info\n",
        "\n",
        "Manifest: https://digital.library.temple.edu/iiif/info/p16002coll4/manifest.json\n",
        "\n",
        "Using this digital collection item: https://digital.library.temple.edu/digital/collection/p16002coll9/id/2923/rec/1\n",
        "\n",
        "Temple's Image API example: \n",
        "https://digital.library.temple.edu/digital/iiif/p16002coll9/2923/full/pct:15/0/default.jpg\n",
        "\n",
        "Relevant endpoint: https://digital.library.temple.edu/oai/oai.php\n",
        "\n",
        "\n",
        "\n",
        "## ContentDM API Test:\n",
        "\n",
        "https://platform.worldcat.org/api-explorer/apis/CONTENTdmIIIFImageAPI/Image/GetInformation\n",
        "\n",
        "https://platform.worldcat.org/api-explorer/apis/CONTENTdmIIIFImageAPI/Image/GetImage\n"
      ]
    },
    {
      "cell_type": "markdown",
      "metadata": {
        "id": "l9YxYHRgDF4Y"
      },
      "source": [
        "# Install Packages\n"
      ]
    },
    {
      "cell_type": "code",
      "metadata": {
        "id": "uqLxDOQddzT4"
      },
      "source": [
        "import requests, csv\n",
        "import json\n",
        "import pandas as pd\n",
        "import cv2\n",
        "import os\n",
        "import urllib.request\n",
        "import urllib3\n",
        "from urllib3 import request\n",
        "import matplotlib.pyplot as plt\n",
        "from matplotlib import pyplot as plt\n",
        "from random import randint\n",
        "import ipywidgets as widgets\n",
        "from IPython.display import Image, display\n",
        "from IPython.core.display import HTML \n",
        "from PIL import Image, ImageDraw, ImageFont, ImageOps\n",
        "from io import BytesIO\n",
        "import certifi"
      ],
      "execution_count": 12,
      "outputs": []
    },
    {
      "cell_type": "markdown",
      "metadata": {
        "id": "YsmBXprSx62z"
      },
      "source": [
        "# Query ContentDM"
      ]
    },
    {
      "cell_type": "markdown",
      "metadata": {
        "id": "MEtMz9xTTNpI"
      },
      "source": [
        "## Query a Collection\n",
        "\n",
        "The manifestURL variable determines what collection, such as WWII Posters, are queried. "
      ]
    },
    {
      "cell_type": "code",
      "metadata": {
        "id": "DkLX25IeTO9j"
      },
      "source": [
        "#manifestUrl = 'https://cdm16002.contentdm.oclc.org/iiif/info/manifest.json'\n",
        "manifestUrl = 'https://cdm16002.contentdm.oclc.org/iiif/info/p16002coll9/p1.json'"
      ],
      "execution_count": 13,
      "outputs": []
    },
    {
      "cell_type": "code",
      "metadata": {
        "colab": {
          "base_uri": "https://localhost:8080/"
        },
        "id": "2_MkylQSTUds",
        "outputId": "62363778-45b3-4b55-81f6-0afd6402f704"
      },
      "source": [
        "responseManifest = requests.get(manifestUrl)\n",
        "print(responseManifest.url)\n",
        "\n",
        "# retrieving the metadata\n",
        "m = json.loads(responseManifest.text)\n",
        "\n",
        "#for i in m['manifests']:\n",
        "#    print(i['@id'])\n",
        "\n",
        "#print(m)"
      ],
      "execution_count": 14,
      "outputs": [
        {
          "output_type": "stream",
          "name": "stdout",
          "text": [
            "https://cdm16002.contentdm.oclc.org/iiif/info/p16002coll9/p1.json\n"
          ]
        }
      ]
    },
    {
      "cell_type": "code",
      "metadata": {
        "colab": {
          "base_uri": "https://localhost:8080/"
        },
        "id": "CW15uddOTcyz",
        "outputId": "ba8d3dcb-46fd-4a52-c5ed-d15088d47e8b"
      },
      "source": [
        "# Save Metadata as CSV\n",
        "\n",
        "csv_out = csv.writer(open('tul.csv', 'w'), delimiter = ',', quotechar = '\"', quoting = csv.QUOTE_MINIMAL)\n",
        "csv_out.writerow(['Title', 'Date', 'Contributor', 'Description', 'Subject'])"
      ],
      "execution_count": 16,
      "outputs": [
        {
          "output_type": "execute_result",
          "data": {
            "text/plain": [
              "44"
            ]
          },
          "metadata": {},
          "execution_count": 16
        }
      ]
    },
    {
      "cell_type": "code",
      "metadata": {
        "id": "WYsZWZr2TZq5",
        "colab": {
          "base_uri": "https://localhost:8080/",
          "height": 202
        },
        "outputId": "d7025660-b81c-4a36-f867-ab87266a084f"
      },
      "source": [
        "for i in m['manifests']:\n",
        "    title = date = contributor = description = subject = ''\n",
        "    \n",
        "    manifestItemUrl = i['@id']\n",
        "    responseManifestItem = requests.get(manifestItemUrl)\n",
        "    manifestItem = json.loads(responseManifestItem.text)\n",
        "\n",
        "    title = manifestItem['metadata'][0]['value']\n",
        "    date = manifestItem['metadata'][1]['value']\n",
        "    contributor = manifestItem['metadata'][2]['value']\n",
        "    description = manifestItem['metadata'][3]['value']\n",
        "    subject = manifestItem['metadata'][4]['value']\n",
        "    #attribution = manifestItem['attribution']\n",
        "\n",
        "    #print(title + \" \" + date)\n",
        "    csv_out.writerow([title, date, contributor, description, subject])    "
      ],
      "execution_count": 15,
      "outputs": [
        {
          "output_type": "error",
          "ename": "NameError",
          "evalue": "ignored",
          "traceback": [
            "\u001b[0;31m---------------------------------------------------------------------------\u001b[0m",
            "\u001b[0;31mNameError\u001b[0m                                 Traceback (most recent call last)",
            "\u001b[0;32m<ipython-input-15-47bc1f880d69>\u001b[0m in \u001b[0;36m<module>\u001b[0;34m()\u001b[0m\n\u001b[1;32m     14\u001b[0m \u001b[0;34m\u001b[0m\u001b[0m\n\u001b[1;32m     15\u001b[0m     \u001b[0;31m#print(title + \" \" + date)\u001b[0m\u001b[0;34m\u001b[0m\u001b[0;34m\u001b[0m\u001b[0;34m\u001b[0m\u001b[0m\n\u001b[0;32m---> 16\u001b[0;31m     \u001b[0mcsv_out\u001b[0m\u001b[0;34m.\u001b[0m\u001b[0mwriterow\u001b[0m\u001b[0;34m(\u001b[0m\u001b[0;34m[\u001b[0m\u001b[0mtitle\u001b[0m\u001b[0;34m,\u001b[0m \u001b[0mdate\u001b[0m\u001b[0;34m,\u001b[0m \u001b[0mcontributor\u001b[0m\u001b[0;34m,\u001b[0m \u001b[0mdescription\u001b[0m\u001b[0;34m,\u001b[0m \u001b[0msubject\u001b[0m\u001b[0;34m]\u001b[0m\u001b[0;34m)\u001b[0m\u001b[0;34m\u001b[0m\u001b[0;34m\u001b[0m\u001b[0m\n\u001b[0m",
            "\u001b[0;31mNameError\u001b[0m: name 'csv_out' is not defined"
          ]
        }
      ]
    },
    {
      "cell_type": "markdown",
      "metadata": {
        "id": "1xwCBKpSMqkh"
      },
      "source": [
        "## Broken Code Chunk"
      ]
    },
    {
      "cell_type": "code",
      "metadata": {
        "id": "3QInvlPNCHY2"
      },
      "source": [
        "pid = 0\n",
        "img_urls = {}\n",
        "\n",
        "for i in m['manifests']:\n",
        "    manifestItemUrl = i['@id']\n",
        "    responseManifestItem = requests.get(manifestItemUrl)\n",
        "    manifestItem = json.loads(responseManifestItem.text)\n",
        "    for c in data['sequences'][0]['canvases']:\n",
        "        img_urls[pid]=c['images'][0]['resource']['service']['@id']\n",
        "        print (img_urls[pid])\n",
        "        pid = pid +1\n",
        "print (\"Ready.\")"
      ],
      "execution_count": null,
      "outputs": []
    },
    {
      "cell_type": "code",
      "metadata": {
        "id": "fF2q17ZT-_WC"
      },
      "source": [
        "from google.colab import files\n",
        "\n",
        "files.download('tul.csv')"
      ],
      "execution_count": null,
      "outputs": []
    },
    {
      "cell_type": "markdown",
      "metadata": {
        "id": "kSXXs1HGU7Z4"
      },
      "source": [
        "# Exploring"
      ]
    },
    {
      "cell_type": "code",
      "metadata": {
        "id": "WXe0FzaX_k0L"
      },
      "source": [
        "df"
      ],
      "execution_count": null,
      "outputs": []
    },
    {
      "cell_type": "code",
      "metadata": {
        "id": "0DwmMXXoU6hf"
      },
      "source": [
        "# Get unique values\n",
        "artist = pd.unique(df['Title'].str.split('|', expand=True).stack()).tolist()\n",
        "for a in sorted(artist):\n",
        "    print(a)"
      ],
      "execution_count": null,
      "outputs": []
    },
    {
      "cell_type": "code",
      "metadata": {
        "id": "jadW6SbbU93x"
      },
      "source": [
        "# Splits the people column and counts frequencies\n",
        "artist_counts = df['contributor'].str.split('|').apply(lambda x: pd.Series(x).value_counts()).sum().astype('int').sort_values(ascending=False).to_frame().reset_index(level=0)\n",
        "# Add column names\n",
        "artist_counts.columns = ['Contributor', 'count']\n",
        "# Display with horizontal bars\n",
        "display(artist_counts.style.bar(subset=['count'], color='#d65f5f').set_properties(subset=['count'], **{'width': '300px'}))"
      ],
      "execution_count": null,
      "outputs": []
    },
    {
      "cell_type": "code",
      "metadata": {
        "id": "eJQ7GxrFU_hk"
      },
      "source": [
        "# Get unique values\n",
        "types = pd.unique(df['type']).tolist()\n",
        "for type in sorted(types, key=str.lower):\n",
        "    print(type)"
      ],
      "execution_count": null,
      "outputs": []
    },
    {
      "cell_type": "markdown",
      "metadata": {
        "id": "ZhDYytplDORM"
      },
      "source": [
        "# Everything Below Under Revision"
      ]
    },
    {
      "cell_type": "markdown",
      "metadata": {
        "id": "4owlhpt1_TPG"
      },
      "source": [
        "## Alternate Query (not working)\n",
        "\n",
        "This might work with the general temple manifest"
      ]
    },
    {
      "cell_type": "code",
      "metadata": {
        "id": "c8OT7zAzTHNS"
      },
      "source": [
        "#https://digital.library.temple.edu/iiif/info/p16002coll4/manifest.json\n",
        "\n",
        "#https://cdm16002.contentdm.oclc.org/iiif/image/' + p16002coll4 +'/full/full/0/default.jpg\n",
        "#https://cdm16002.contentdm.oclc.org/iiif/image/p16002coll4/full/full/0/default.jpg\n",
        "\n",
        "manifestUrl = ' https://digital.library.temple.edu/iiif/info/manifest.json'\n",
        "responseManifest = requests.get(manifestUrl)\n",
        "print(responseManifest.url)\n",
        "\n",
        "# retrieving the metadata\n",
        "m = json.loads(responseManifest.text)\n",
        "\n",
        "#for i in m['collections']:\n",
        "#      print(i['@id'])"
      ],
      "execution_count": null,
      "outputs": []
    },
    {
      "cell_type": "code",
      "metadata": {
        "id": "U9K8-wSqSfOv"
      },
      "source": [
        "for r in m['collections']:\n",
        "    print(r['@id'])\n",
        "    print(r['label'])\n",
        "    try:\n",
        "        #for i in range(len(r['content']['descriptiveNonRepeating']['online_media']['media'])):\n",
        "        for i in range(len(r['@id'])):\n",
        "            idsId = str(r['@id']) - \"https://cdm16002.contentdm.oclc.org/iiif/info/\" \n",
        "            print(idsId)\n",
        "            iiifUrl = r['@id']\n",
        "            # manifestUrl = 'https://cdm16002.contentdm.oclc.org/iiif/info/p16002coll9/p1.json'\n",
        "            iiifItemResponse = requests.get(iiifUrl)\n",
        "            imageUrl = 'https://cdm16002.contentdm.oclc.org/iiif/image/' + idsID +'/full/full/0/default.jpg'\n",
        "            print(imageUrl)\n",
        "            iiifItem = json.loads(iiifItemResponse.text)\n",
        "            title = date = licence = datasource = dimensions = sitter = typem = medium = artist =''\n",
        "            for i in iiifItem['metadata']:\n",
        "                if i['label'] == 'Title':\n",
        "                    title = i['value']\n",
        "                elif i['label'] == 'Date':\n",
        "                    date = i['value']\n",
        "                elif i['label'] == 'Contributor':\n",
        "                    licence = i['value']\n",
        "                elif i['label'] == 'Description':\n",
        "                    datasource = i['value']\n",
        "                elif i['label'] == 'Subject':\n",
        "                    dimensions = i['value']\n",
        "                else: pass\n",
        "            csv_out.writerow([idsId,title,date,conributor,description,subject,iiifUrl,imageUrl])\n",
        "\n",
        "    except:\n",
        "        print(\"An exception occurred\") "
      ],
      "execution_count": null,
      "outputs": []
    },
    {
      "cell_type": "markdown",
      "metadata": {
        "id": "LqZI-5BTNodS"
      },
      "source": [
        "# Query Temple Manifest Metadata (not working)\n",
        "\n",
        "https://digital.library.temple.edu/iiif/info/p16002coll4/manifest.json"
      ]
    },
    {
      "cell_type": "code",
      "metadata": {
        "scrolled": true,
        "id": "nWwG3a1zA3D5"
      },
      "source": [
        "# This appears to be the right way to query the Json:\n",
        "#url = \"https://cdm16002.contentdm.oclc.org/iiif/info/p16002coll4/4/manifest.json\"\n",
        "url = \"https://cdm16002.contentdm.oclc.org/iiif/info/p16002coll9/2909/manifest.json\""
      ],
      "execution_count": null,
      "outputs": []
    },
    {
      "cell_type": "code",
      "metadata": {
        "id": "sQ6m9kB3BtbK"
      },
      "source": [
        "resp = urllib.request.urlopen(url)\n",
        "data = resp.read().decode(\"utf-8\")\n",
        "data = json.loads(data)"
      ],
      "execution_count": null,
      "outputs": []
    },
    {
      "cell_type": "code",
      "metadata": {
        "id": "ggpJR3A7_9gj"
      },
      "source": [
        "pid = 0\n",
        "img_urls = {}\n",
        "for c in data['sequences'][0]['canvases']:\n",
        "    img_urls[pid]=c['images'][0]['resource']['service']['@id']\n",
        "    print (img_urls[pid])\n",
        "    pid = pid +1\n",
        "print (\"Ready.\")"
      ],
      "execution_count": null,
      "outputs": []
    },
    {
      "cell_type": "code",
      "metadata": {
        "id": "S-G5BrgCyM_k"
      },
      "source": [
        "df = pd.json_normalize(data)\n",
        "df"
      ],
      "execution_count": null,
      "outputs": []
    },
    {
      "cell_type": "code",
      "metadata": {
        "id": "Dv1yxOY0UmXi"
      },
      "source": [
        "results = json.loads(data)\n",
        "\n",
        "for r in results['response']['rows']:\n",
        "    print(r['id'] + ' ' +  r['title'])\n",
        "    print(r)\n",
        "    # getting the identifiers of the records to access the IIIF manifests\n",
        "    try:\n",
        "        for i in range(len(r['content']['descriptiveNonRepeating']['online_media']['media'])):\n",
        "            idsId = r['content']['descriptiveNonRepeating']['online_media']['media'][i]['idsId']\n",
        "            print(idsId)\n",
        "            iiifUrl = 'https://digital.library.temple.edu/iiif/ids/manifest/' + idsID\n",
        "            iiifItemResponse = requests.get(iiifUrl)\n",
        "            imageUrl = 'https://digital.library.temple.edu/iiif/' + idsID +'/full/full/0/default.jpg'\n",
        "            print(imageUrl)\n",
        "            iiifItem = json.loads(iiifItemResponse.text)\n",
        "            title = date = licence = datasource = dimensions = sitter = typem = medium = artist =''\n",
        "            for i in iiifItem['metadata']:\n",
        "                if i['label'] == 'Title':\n",
        "                    title = i['value']\n",
        "                elif i['label'] == 'Date':\n",
        "                    date = i['value']\n",
        "                elif i['label'] == 'Creator (Person)':\n",
        "                    licence = i['value']\n",
        "                elif i['label'] == 'Subject':\n",
        "                    datasource = i['value']\n",
        "                elif i['label'] == 'Geographic Subject':\n",
        "                    dimensions = i['value']\n",
        "                elif i['label'] == 'Sitter':\n",
        "                    sitter = i['value']\n",
        "                elif i['label'] == 'Personal Names':\n",
        "                    typem = i['value']\n",
        "                elif i['label'] == 'Note':    \n",
        "                    medium = i['value']\n",
        "                elif i['label'] == 'Type':    \n",
        "                    artist = i['value']\n",
        "                else: pass\n",
        "                \n",
        "            csv_out.writerow([idsId,title,date,licence,datasource,dimensions,sitter,typem,medium,artist,iiifUrl,imageUrl])\n",
        "\n",
        "    except:\n",
        "        print(\"An exception occurred\")  "
      ],
      "execution_count": null,
      "outputs": []
    },
    {
      "cell_type": "code",
      "metadata": {
        "id": "QGXaAQLqUu0c"
      },
      "source": [
        "df = pd.read_csv('si_records.csv')"
      ],
      "execution_count": null,
      "outputs": []
    },
    {
      "cell_type": "code",
      "metadata": {
        "id": "Ulj2bAW8U4fH"
      },
      "source": [
        "len(df)"
      ],
      "execution_count": null,
      "outputs": []
    },
    {
      "cell_type": "markdown",
      "metadata": {
        "id": "Coj6p_fRVFlO"
      },
      "source": [
        "# Face Detection"
      ]
    },
    {
      "cell_type": "code",
      "metadata": {
        "id": "20ylOuOSW4DX"
      },
      "source": [
        "from google.colab import files\n",
        "\n",
        "uploaded = files.upload()\n",
        "\n",
        "for fn in uploaded.keys():\n",
        "  print('User uploaded file \"{name}\" with length {length} bytes'.format(\n",
        "      name=fn, length=len(uploaded[fn])))"
      ],
      "execution_count": null,
      "outputs": []
    },
    {
      "cell_type": "code",
      "metadata": {
        "id": "oGAqSEL_VG9w"
      },
      "source": [
        "test_image = cv2.imread('submission-example.jpg')\n",
        "\n",
        "plt.imshow(test_image)"
      ],
      "execution_count": null,
      "outputs": []
    },
    {
      "cell_type": "code",
      "metadata": {
        "id": "20hEfpUQVJ95"
      },
      "source": [
        "print(test_image.shape)"
      ],
      "execution_count": null,
      "outputs": []
    },
    {
      "cell_type": "code",
      "metadata": {
        "id": "ypjM50mAVM8s"
      },
      "source": [
        "rgb_image = cv2.cvtColor(test_image, cv2.COLOR_BGR2RGB)\n",
        "plt.imshow(rgb_image)"
      ],
      "execution_count": null,
      "outputs": []
    },
    {
      "cell_type": "code",
      "metadata": {
        "id": "PiNSFvTBVOt1"
      },
      "source": [
        "#We define a function\n",
        "def convertToRGB(image):\n",
        "    return cv2.cvtColor(image, cv2.COLOR_BGR2RGB)"
      ],
      "execution_count": null,
      "outputs": []
    },
    {
      "cell_type": "markdown",
      "metadata": {
        "id": "ftrP-8UPVRMh"
      },
      "source": [
        "## Load Classifier for Faces"
      ]
    },
    {
      "cell_type": "code",
      "metadata": {
        "id": "CAuMxWJoYeHI"
      },
      "source": [
        "# Download from here and upload: https://github.com/opencv/opencv/blob/master/data/haarcascades/haarcascade_frontalface_default.xml\n"
      ],
      "execution_count": null,
      "outputs": []
    },
    {
      "cell_type": "code",
      "metadata": {
        "id": "-P7qR2cXYpRN"
      },
      "source": [
        "from google.colab import files\n",
        "\n",
        "uploaded = files.upload()\n",
        "\n",
        "for fn in uploaded.keys():\n",
        "  print('User uploaded file \"{name}\" with length {length} bytes'.format(\n",
        "      name=fn, length=len(uploaded[fn])))"
      ],
      "execution_count": null,
      "outputs": []
    },
    {
      "cell_type": "code",
      "metadata": {
        "id": "IP0IGHH6VSwD"
      },
      "source": [
        "haar_cascade_face = cv2.CascadeClassifier('haarcascade_frontalface_default.xml')"
      ],
      "execution_count": null,
      "outputs": []
    },
    {
      "cell_type": "code",
      "metadata": {
        "id": "8uub5t9xVVIJ"
      },
      "source": [
        "faces_rects = haar_cascade_face.detectMultiScale(test_image, scaleFactor = 1.2, minNeighbors = 5);\n",
        "\n",
        "# Let us print the no. of faces found\n",
        "print('Faces found: ', len(faces_rects))"
      ],
      "execution_count": null,
      "outputs": []
    },
    {
      "cell_type": "code",
      "metadata": {
        "id": "yRX2f4RkVW89"
      },
      "source": [
        "for (x,y,w,h) in faces_rects:\n",
        "     cv2.rectangle(test_image, (x, y), (x+w, y+h), (0, 255, 0), 2)"
      ],
      "execution_count": null,
      "outputs": []
    },
    {
      "cell_type": "code",
      "metadata": {
        "id": "6n7XXuc5VYpu"
      },
      "source": [
        "plt.imshow(convertToRGB(test_image))"
      ],
      "execution_count": null,
      "outputs": []
    },
    {
      "cell_type": "markdown",
      "metadata": {
        "id": "xMpxF6l4VdRC"
      },
      "source": [
        "# Download Portraits"
      ]
    },
    {
      "cell_type": "code",
      "metadata": {
        "id": "EfJT25agVb7C"
      },
      "source": [
        "!mkdir images\n",
        "\n",
        "for index, row in df.iterrows():\n",
        "    print(index,     pid = 0\n",
        "    img_urls = {}row['imageUrl'])\n",
        "    response = requests.get(row['imageUrl'])\n",
        "    img = Image.open(BytesIO(response.content))\n",
        "    img.save('images/m-{}.jpg'.format(row['id']), quality=90)"
      ],
      "execution_count": null,
      "outputs": []
    },
    {
      "cell_type": "markdown",
      "metadata": {
        "id": "3Z68WUhfVhpN"
      },
      "source": [
        "## Process Images"
      ]
    },
    {
      "cell_type": "code",
      "metadata": {
        "id": "zr_p2wD7Vikj"
      },
      "source": [
        "rows = 20\n",
        "files = os.listdir('images/')\n",
        "\n",
        "fig = plt.figure(figsize=(100,300))\n",
        "for num, x in enumerate(files):\n",
        "    #img = Image.open('is-images/'+ x)\n",
        "    img = cv2.imread('images/'+ x)\n",
        "    \n",
        "    img_gray = cv2.cvtColor(img, cv2.COLOR_BGR2GRAY)\n",
        "    faces_rects = haar_cascade_face.detectMultiScale(img_gray, scaleFactor = 1.2, minNeighbors = 5);      \n",
        "    \n",
        "    for (x,y,w,h) in faces_rects:\n",
        "        cv2.rectangle(img, (x, y), (x+w, y+h), (0, 255, 0), 2)\n",
        "        \n",
        "    #convert image to RGB and show image\n",
        "    img_face = convertToRGB(img)    \n",
        "    \n",
        "    plt.subplot(rows,5,num+1)\n",
        "    plt.axis('off')\n",
        "    plt.imshow(img_face)"
      ],
      "execution_count": null,
      "outputs": []
    },
    {
      "cell_type": "markdown",
      "metadata": {
        "id": "4agh_ls6agtP"
      },
      "source": [
        "# ContentDM Python Wrapper\n",
        "\n",
        "Source: https://github.com/saverkamp/pycdm"
      ]
    },
    {
      "cell_type": "markdown",
      "metadata": {
        "id": "uG6tBd0jphTQ"
      },
      "source": [
        "## Install Libraries"
      ]
    },
    {
      "cell_type": "code",
      "metadata": {
        "id": "u0GAsqYopggs"
      },
      "source": [
        "#Unclear if pycdm is functional\n",
        "#appears only available for Python 2.7\n",
        "!pip install pycdm\n",
        "import urllib3\n",
        "from urllib3 import request\n",
        "import certifi\n",
        "import json\n",
        "import pandas as pd"
      ],
      "execution_count": null,
      "outputs": []
    },
    {
      "cell_type": "code",
      "metadata": {
        "id": "JzbThNuCqm83"
      },
      "source": [
        "http = urllib3.PoolManager(\n",
        "    cert_reqs='CERT_REQUIRED',\n",
        "    ca_certs=certifi.where())"
      ],
      "execution_count": null,
      "outputs": []
    },
    {
      "cell_type": "markdown",
      "metadata": {
        "id": "vhTMf8092FzL"
      },
      "source": [
        "## Querying ContentDM API\n",
        "\n",
        "\n",
        "\n"
      ]
    },
    {
      "cell_type": "code",
      "metadata": {
        "id": "IOB1twmy2D3K"
      },
      "source": [
        "url = 'https://server16002.contentdm.oclc.org/dmwebservices/index.php?q=dmGetCollectionList/json'"
      ],
      "execution_count": null,
      "outputs": []
    },
    {
      "cell_type": "code",
      "metadata": {
        "id": "N2lLA8C4qGee"
      },
      "source": [
        "r = http.request('GET', url)\n",
        "r.status"
      ],
      "execution_count": null,
      "outputs": []
    },
    {
      "cell_type": "code",
      "metadata": {
        "id": "KPoiiCmIqxh5"
      },
      "source": [
        "data = json.loads(r.data.decode('utf-8'))\n",
        "data"
      ],
      "execution_count": null,
      "outputs": []
    },
    {
      "cell_type": "code",
      "metadata": {
        "id": "SHtqMLo1q3d8"
      },
      "source": [
        "df = pd.json_normalize(data)\n",
        "df"
      ],
      "execution_count": null,
      "outputs": []
    }
  ]
}